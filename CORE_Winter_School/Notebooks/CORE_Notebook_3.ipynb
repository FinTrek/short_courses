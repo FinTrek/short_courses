{
 "cells": [
  {
   "cell_type": "markdown",
   "metadata": {},
   "source": [
    "# Notebook 3: Subgraph Counting\n",
    "#### Econometric Methods for Networks\n",
    "#### _CORE/UCL, December 12th to 14th, 2016_\n",
    "##### _Bryan S. Graham, UC - Berkeley, bgraham@econ.berkeley.edu_\n",
    "<br>\n",
    "<br>\n",
    "This is the third in a series of iPython Jupyter notebooks designed to accompany a series of instructional lectures given at CORE/UCL from December 12th to 14th, 2016. The scripts below were written for Python 2.7.12. The Anaconda distribution of Python, available at https://www.continuum.io/downloads, comes bundled with most the scientific computing packages used in these notebooks.\n",
    "<br>\n",
    "<br>\n",
    "For more information about the course please visit my webpage at http://bryangraham.github.io/econometrics/.\n",
    "<br>\n",
    "<br>\n",
    "This notebook creates the figures used in the lecture on subgraph counting. The core references for this lecture are Holland and Leinhardt (1976, _Sociological Methodology_), Bicken, Chen and Levina (2011, _Annals of Statistics_) and Bhattacharya and Bickel (2015, _Annals of Statistics_)"
   ]
  },
  {
   "cell_type": "code",
   "execution_count": 2,
   "metadata": {
    "collapsed": true
   },
   "outputs": [],
   "source": [
    "# Direct Python to plot all figures inline (i.e., not in a separate window)\n",
    "%matplotlib inline\n",
    "\n",
    "# Import matplotlib & networkx\n",
    "import matplotlib.pyplot as plt\n",
    "import networkx as nx\n",
    "import numpy as np\n",
    "import itertools as it\n",
    "\n",
    "# Directory where graphics files will be saved\n",
    "graphics =  '/Users/bgraham/Dropbox/Teaching/Short_Courses/CORE_Winter_School/Lectures/'"
   ]
  },
  {
   "cell_type": "markdown",
   "metadata": {},
   "source": [
    "Create graphics for key two, three and four node motifs/graphlets."
   ]
  },
  {
   "cell_type": "code",
   "execution_count": 4,
   "metadata": {
    "collapsed": false
   },
   "outputs": [
    {
     "data": {
      "image/png": "[encoded data removed]",
      "text/plain": [
       "<matplotlib.figure.Figure at 0x10c036910>"
      ]
     },
     "metadata": {},
     "output_type": "display_data"
    },
    {
     "data": {
      "image/png": "[encoded data removed]",
      "text/plain": [
       "<matplotlib.figure.Figure at 0x10eadde50>"
      ]
     },
     "metadata": {},
     "output_type": "display_data"
    },
    {
     "data": {
      "image/png": "[encoded data removed]",
      "text/plain": [
       "<matplotlib.figure.Figure at 0x10e7f7090>"
      ]
     },
     "metadata": {},
     "output_type": "display_data"
    },
    {
     "data": {
      "image/png": "[encoded data removed]",
      "text/plain": [
       "<matplotlib.figure.Figure at 0x10e451e90>"
      ]
     },
     "metadata": {},
     "output_type": "display_data"
    },
    {
     "data": {
      "image/png": "[encoded data removed]",
      "text/plain": [
       "<matplotlib.figure.Figure at 0x10eceac10>"
      ]
     },
     "metadata": {},
     "output_type": "display_data"
    },
    {
     "data": {
      "image/png": "[encoded data removed]",
      "text/plain": [
       "<matplotlib.figure.Figure at 0x10eb46d90>"
      ]
     },
     "metadata": {},
     "output_type": "display_data"
    }
   ],
   "source": [
    "#---------------------------------#\n",
    "#- Subgraphs with two agents     -#\n",
    "#---------------------------------#\n",
    "\n",
    "noedge=nx.Graph()                       # unconnected dyad  \n",
    "noedge.add_nodes_from([1,2])\n",
    "\n",
    "edge=nx.Graph()                         # connected dyad  \n",
    "edge.add_nodes_from(noedge)\n",
    "edge.add_edges_from([(1,2)])\n",
    "\n",
    "# Generate figures for dyad configurations\n",
    "# Position nodes on a line\n",
    "node_pos = {1: [0,0.5], 2: [2,0.5]} \n",
    "\n",
    "# Empty dyad\n",
    "noedge_fig = plt.figure(figsize=(1, 1))\n",
    "plt.axis('off')    \n",
    "ax = noedge_fig.add_subplot(1,1,1)\n",
    "nx.draw_networkx(noedge, pos=node_pos, with_labels=False, node_color='#FDB515', node_size = 100, \\\n",
    "                 edge_color='#003262', width=2)\n",
    "ax.axes.set_xlim([-0.25,2.25])\n",
    "ax.axes.set_ylim([-0.25,1.25])\n",
    "ax.axes.get_xaxis().set_visible(False)\n",
    "ax.axes.get_yaxis().set_visible(False)\n",
    "\n",
    "# Save result\n",
    "plt.tight_layout()\n",
    "plt.savefig(graphics+'noedge.eps', bbox_inches='tight', dpi=500)  \n",
    "\n",
    "# Connected dyad\n",
    "edge_fig = plt.figure(figsize=(1, 1))\n",
    "plt.axis('off')    \n",
    "ax = edge_fig.add_subplot(1,1,1)\n",
    "nx.draw_networkx(edge, pos=node_pos, with_labels=False, node_color='#FDB515', node_size = 100, \\\n",
    "                 edge_color='#003262', width=2)\n",
    "ax.axes.set_xlim([-0.25,2.25])\n",
    "ax.axes.set_ylim([-0.25,1.25])\n",
    "ax.axes.get_xaxis().set_visible(False)\n",
    "ax.axes.get_yaxis().set_visible(False)\n",
    "\n",
    "# Save result\n",
    "plt.tight_layout()\n",
    "plt.savefig(graphics+'edge.eps', bbox_inches='tight', dpi=500)  \n",
    "\n",
    "#---------------------------------#\n",
    "#- Subgraphs with three agents   -#\n",
    "#---------------------------------#\n",
    "\n",
    "empty=nx.Graph()                        # Empty triad\n",
    "empty.add_nodes_from([1,2,3])\n",
    "\n",
    "oneedge=nx.Graph()                      # One edge triad       \n",
    "oneedge.add_nodes_from(empty)\n",
    "oneedge.add_edges_from([(1,2)])\n",
    "\n",
    "twostar=nx.Graph()                      # Two star triad\n",
    "twostar.add_nodes_from(empty)\n",
    "twostar.add_edges_from([(1,2),(1,3)])\n",
    "\n",
    "triangle=nx.Graph()                     # Triangle triad   \n",
    "triangle.add_nodes_from(empty)\n",
    "triangle.add_edges_from([(1,2),(1,3),(2,3)])\n",
    "\n",
    "# Position nodes in the shape of a triangle\n",
    "node_pos = {1: [1,1], 2: [2,0], 3: [0,0]} \n",
    "\n",
    "# Empty triad\n",
    "empty_fig = plt.figure(figsize=(1, 1))\n",
    "plt.axis('off') \n",
    "ax = empty_fig.add_subplot(1,1,1)\n",
    "nx.draw_networkx(empty, pos=node_pos, with_labels=False, node_color='#FDB515', node_size = 100, \\\n",
    "                 edge_color='#003262', width=2)\n",
    "ax.axes.set_xlim([-0.25,2.25])\n",
    "ax.axes.set_ylim([-0.25,1.25])\n",
    "ax.axes.get_xaxis().set_visible(False)\n",
    "ax.axes.get_yaxis().set_visible(False)\n",
    "\n",
    "# Save result\n",
    "plt.tight_layout()\n",
    "plt.savefig(graphics+'empty.eps', bbox_inches='tight', dpi=500)  \n",
    "\n",
    "# One edge triad\n",
    "oneedge_fig = plt.figure(figsize=(1, 1))\n",
    "plt.axis('off') \n",
    "ax = oneedge_fig.add_subplot(1,1,1)\n",
    "nx.draw_networkx(oneedge, pos=node_pos, with_labels=False, node_color='#FDB515', node_size = 100, \\\n",
    "                 edge_color='#003262', width=2)\n",
    "ax.axes.set_xlim([-0.25,2.25])\n",
    "ax.axes.set_ylim([-0.25,1.25])\n",
    "ax.axes.get_xaxis().set_visible(False)\n",
    "ax.axes.get_yaxis().set_visible(False)\n",
    "\n",
    "# Save result\n",
    "plt.tight_layout()\n",
    "plt.savefig(graphics+'oneedge.eps', bbox_inches='tight', dpi=500)  \n",
    "\n",
    "# Two star triad\n",
    "twostar_fig = plt.figure(figsize=(1, 1))\n",
    "plt.axis('off') \n",
    "ax = twostar_fig.add_subplot(1,1,1)\n",
    "nx.draw_networkx(twostar, pos=node_pos, with_labels=False, node_color='#FDB515', node_size = 100, \\\n",
    "                 edge_color='#003262', width=2)\n",
    "ax.axes.set_xlim([-0.25,2.25])\n",
    "ax.axes.set_ylim([-0.25,1.25])\n",
    "ax.axes.get_xaxis().set_visible(False)\n",
    "ax.axes.get_yaxis().set_visible(False)\n",
    "\n",
    "# Save result\n",
    "plt.tight_layout()\n",
    "plt.savefig(graphics+'twostar.eps', bbox_inches='tight', dpi=500)  \n",
    "\n",
    "# Triangle triad\n",
    "triangle_fig = plt.figure(figsize=(1, 1))\n",
    "plt.axis('off') \n",
    "ax = triangle_fig.add_subplot(1,1,1)\n",
    "nx.draw_networkx(triangle, pos=node_pos, with_labels=False, node_color='#FDB515', node_size = 100, \\\n",
    "                 edge_color='#003262', width=2)\n",
    "ax.axes.set_xlim([-0.25,2.25])\n",
    "ax.axes.set_ylim([-0.25,1.25])\n",
    "ax.axes.get_xaxis().set_visible(False)\n",
    "ax.axes.get_yaxis().set_visible(False)\n",
    "\n",
    "# Save result\n",
    "plt.tight_layout()\n",
    "plt.savefig(graphics+'triangle.eps', bbox_inches='tight', dpi=500) "
   ]
  },
  {
   "cell_type": "markdown",
   "metadata": {},
   "source": [
    "# Tetrad graphlets"
   ]
  },
  {
   "cell_type": "code",
   "execution_count": 9,
   "metadata": {
    "collapsed": false
   },
   "outputs": [
    {
     "data": {
      "image/png": "[encoded data removed]",
      "text/plain": [
       "<matplotlib.figure.Figure at 0x110a4cad0>"
      ]
     },
     "metadata": {},
     "output_type": "display_data"
    },
    {
     "data": {
      "image/png": "[encoded data removed]",
      "text/plain": [
       "<matplotlib.figure.Figure at 0x10c033f50>"
      ]
     },
     "metadata": {},
     "output_type": "display_data"
    },
    {
     "data": {
      "image/png": "[encoded data removed]",
      "text/plain": [
       "<matplotlib.figure.Figure at 0x11085f790>"
      ]
     },
     "metadata": {},
     "output_type": "display_data"
    },
    {
     "data": {
      "image/png": "[encoded data removed]",
      "text/plain": [
       "<matplotlib.figure.Figure at 0x10ff16f90>"
      ]
     },
     "metadata": {},
     "output_type": "display_data"
    },
    {
     "data": {
      "image/png": "[encoded data removed]",
      "text/plain": [
       "<matplotlib.figure.Figure at 0x10f6fa690>"
      ]
     },
     "metadata": {},
     "output_type": "display_data"
    },
    {
     "data": {
      "image/png": "[encoded data removed]",
      "text/plain": [
       "<matplotlib.figure.Figure at 0x10f8b6b90>"
      ]
     },
     "metadata": {},
     "output_type": "display_data"
    },
    {
     "data": {
      "image/png": "[encoded data removed]",
      "text/plain": [
       "<matplotlib.figure.Figure at 0x10fa8e710>"
      ]
     },
     "metadata": {},
     "output_type": "display_data"
    },
    {
     "data": {
      "image/png": "[encoded data removed]",
      "text/plain": [
       "<matplotlib.figure.Figure at 0x10f734f90>"
      ]
     },
     "metadata": {},
     "output_type": "display_data"
    },
    {
     "data": {
      "image/png": "[encoded data removed]",
      "text/plain": [
       "<matplotlib.figure.Figure at 0x10bf0cc10>"
      ]
     },
     "metadata": {},
     "output_type": "display_data"
    },
    {
     "data": {
      "image/png": "[encoded data removed]",
      "text/plain": [
       "<matplotlib.figure.Figure at 0x10fe82c50>"
      ]
     },
     "metadata": {},
     "output_type": "display_data"
    },
    {
     "data": {
      "image/png": "[encoded data removed]",
      "text/plain": [
       "<matplotlib.figure.Figure at 0x10e9c1b50>"
      ]
     },
     "metadata": {},
     "output_type": "display_data"
    },
    {
     "data": {
      "image/png": "[encoded data removed]",
      "text/plain": [
       "<matplotlib.figure.Figure at 0x10e89ec50>"
      ]
     },
     "metadata": {},
     "output_type": "display_data"
    }
   ],
   "source": [
    "#---------------------------------#\n",
    "#- Subgraphs with four agents    -#\n",
    "#---------------------------------#\n",
    "\n",
    "tetradempty=nx.Graph()                   # Empty\n",
    "tetradempty.add_nodes_from([1,2,3,4])\n",
    "\n",
    "tetradoneedge=nx.Graph()                 # One edge\n",
    "tetradoneedge.add_nodes_from([1,2,3,4])\n",
    "tetradoneedge.add_edges_from([(1,2)])\n",
    "\n",
    "tetradtwoedge=nx.Graph()                 # Two edge\n",
    "tetradtwoedge.add_nodes_from([1,2,3,4])\n",
    "tetradtwoedge.add_edges_from([(1,2),(3,4)])\n",
    "\n",
    "tetradtwostar=nx.Graph()                 # Two star\n",
    "tetradtwostar.add_nodes_from([1,2,3,4])\n",
    "tetradtwostar.add_edges_from([(1,2),(1,4)])\n",
    "\n",
    "tetradonetriangle=nx.Graph()             # One triangle \n",
    "tetradonetriangle.add_nodes_from([1,2,3,4])\n",
    "tetradonetriangle.add_edges_from([(1,2),(1,4),(2,4)])\n",
    "\n",
    "fourpath=nx.Graph()                      # Four path\n",
    "fourpath.add_nodes_from([1,2,3,4])\n",
    "fourpath.add_edges_from([(1,4),(1,2),(2,3)])\n",
    "\n",
    "onethreewheel=nx.Graph()                 # (1,3) wheel or 3-star\n",
    "onethreewheel.add_nodes_from([1,2,3,4])\n",
    "onethreewheel.add_edges_from([(1,2),(1,3),(1,4)])\n",
    "\n",
    "fourcycle=nx.Graph()                     # Four cycle or square tetrad  \n",
    "fourcycle.add_nodes_from([1,2,3,4])\n",
    "fourcycle.add_edges_from([(1,2),(2,3),(3,4),(4,1)])\n",
    "\n",
    "tailedtriangle=nx.Graph()                # Tailed triangle\n",
    "tailedtriangle.add_nodes_from([1,2,3,4])\n",
    "tailedtriangle.add_edges_from([(1,2),(1,3),(2,3),(1,4)])\n",
    "\n",
    "chordalcycle=nx.Graph()                  # Four chordalcycle\n",
    "chordalcycle.add_nodes_from([1,2,3,4])\n",
    "chordalcycle.add_edges_from([(1,2),(1,3),(2,3),(1,4),(3,4)])\n",
    "\n",
    "clique=nx.Graph()                        # Four clique\n",
    "clique.add_nodes_from([1,2,3,4])\n",
    "clique.add_edges_from([(1,2),(1,3),(2,3),(1,4),(3,4),(2,4)])\n",
    "\n",
    "#------------------------------------------------------------------#\n",
    "#- Create untitled individual plots of all 11 tetrad isomorphisms -#\n",
    "#------------------------------------------------------------------#\n",
    "\n",
    "tetrad_isomorphisms = [tetradempty, tetradoneedge, tetradtwoedge, tetradtwostar, tetradonetriangle, \\\n",
    "                       fourpath, onethreewheel, fourcycle, tailedtriangle, chordalcycle, clique]\n",
    "\n",
    "tetrad_isomorphism_names = [\"Empty\", \"One Edge\", \"Two Edge\", \"Two Star\", \"Triangle\", \"Four Path\", \\\n",
    "                            \"Three Star\", \"Four Cycle\", \"Tailed Triangle\", \"Chordalcycle\", \"Clique\"]\n",
    "\n",
    "tetrad_isomorphism_files = [\"tetradempty\", \"tetradoneedge\", \"tetradtwoedge\", \"tetradtwostar\", \"tetradonetriangle\", \\\n",
    "                            \"fourpath\", \"onethreewheel\", \"fourcycle\", \"tailedtriangle\", \"chordalcycle\", \"clique\"]\n",
    "\n",
    "# Position nodes in the shape of a square\n",
    "node_pos = {1: [0,1], 2: [1,1], 3: [1,0], 4: [0,0]} \n",
    "\n",
    "for tetrad in range(0,len(tetrad_isomorphisms)):\n",
    "\n",
    "    tetrad_fig = plt.figure(figsize=(1, 1))\n",
    "    plt.axis('off') \n",
    "    ax = tetrad_fig.add_subplot(1,1,1)\n",
    "    nx.draw_networkx(tetrad_isomorphisms[tetrad], pos = node_pos, with_labels=False, node_color='#FDB515', \\\n",
    "                     node_size = 100, \\\n",
    "                     edge_color='#003262', width=2)\n",
    "    \n",
    "    ax.axes.set_xlim([-0.25,1.25])\n",
    "    ax.axes.set_ylim([-0.25,1.25])\n",
    "    ax.axes.get_xaxis().set_visible(False)\n",
    "    ax.axes.get_yaxis().set_visible(False)\n",
    "   \n",
    "    # Save result\n",
    "    plt.tight_layout()\n",
    "    plt.savefig(graphics+tetrad_isomorphism_files[tetrad]+'.eps', bbox_inches='tight', dpi=500)"
   ]
  },
  {
   "cell_type": "code",
   "execution_count": 58,
   "metadata": {
    "collapsed": false
   },
   "outputs": [
    {
     "data": {
      "text/plain": [
       "<matplotlib.figure.Figure at 0x110633410>"
      ]
     },
     "metadata": {},
     "output_type": "display_data"
    },
    {
     "data": {
      "image/png": "[encoded data removed]",
      "text/plain": [
       "<matplotlib.figure.Figure at 0x110633a10>"
      ]
     },
     "metadata": {},
     "output_type": "display_data"
    },
    {
     "data": {
      "text/plain": [
       "<matplotlib.figure.Figure at 0x1105f9690>"
      ]
     },
     "metadata": {},
     "output_type": "display_data"
    },
    {
     "data": {
      "image/png": "[encoded data removed]",
      "text/plain": [
       "<matplotlib.figure.Figure at 0x113364c10>"
      ]
     },
     "metadata": {},
     "output_type": "display_data"
    }
   ],
   "source": [
    "# Create figure object\n",
    "W_q1_twostar_fig = plt.figure(figsize=(4, 4))\n",
    "\n",
    "# Unions of two-star graphlets defined on five nodes (i.e., one node in common)\n",
    "# Position Nodes\n",
    "node_pos = {1: [0,0], 2: [-1,-1], 3: [1,-1], 4: [-1,1], 5: [1,1]} \n",
    "\n",
    "# Create five node graphlet\n",
    "W_q1_twostar=nx.Graph()\n",
    "W_q1_twostar.add_nodes_from([1,2,3,4,5])\n",
    "\n",
    "#-----------------------------------#\n",
    "#- Wirings (one node in common)    -#\n",
    "#-----------------------------------#\n",
    "\n",
    "T_edges  = [[(1,2),(2,3)], [(1,2),(1,3)], [(2,3),(1,3)]]\n",
    "U_edges  = [[(1,4),(4,5)],[(1,4),(1,5)],[(4,5),(1,5)]]\n",
    "\n",
    "TU = list(it.product(T_edges, U_edges))         \n",
    "\n",
    "# Delete graphlet unions that violate W_q definition & redundant isomorphisms\n",
    "del TU[2], TU[2], TU[3], TU[3], TU[3], TU[3]\n",
    "W_q_names = [\"5-path\", \"Tailed 3-star\", \"4-star\"] \n",
    "\n",
    "W_q1_twostar_fig = plt.figure(figsize=(3, 3))\n",
    "\n",
    "for w in range(0,len(TU)):\n",
    "    ax = 'ax'+str(w)\n",
    "    ax = W_q1_twostar_fig.add_subplot(2,2,w+1)\n",
    "    \n",
    "    # Draw current wiring\n",
    "    nx.draw_networkx(W_q1_twostar, pos = node_pos, with_labels=True, node_color='#FDB515', node_size = 200, \\\n",
    "                 edgelist=TU[w][0], edge_color='#003262', width=3)\n",
    "    nx.draw_networkx(W_q1_twostar, pos = node_pos, with_labels=True, node_color='#FDB515', node_size = 200, \\\n",
    "                 edgelist=TU[w][1], edge_color='#00B0DA', width=3)\n",
    "    \n",
    "    plt.axis('off') \n",
    "    ax.axes.set_xlim([-1.5,1.5])\n",
    "    ax.axes.set_ylim([-1.5,1.5])\n",
    "    ax.axes.get_xaxis().set_visible(False)\n",
    "    ax.axes.get_yaxis().set_visible(False)\n",
    "    \n",
    "    # Add title\n",
    "    plt.title(str(w+1)+\": \" + W_q_names[w] , fontsize=8)\n",
    "    \n",
    "\n",
    "# Save result\n",
    "plt.tight_layout()\n",
    "plt.savefig(graphics+'W_q1_twostar.png')  \n",
    "\n",
    "#-----------------------------------#\n",
    "#- Wirings (two nodes in common)   -#\n",
    "#-----------------------------------#\n",
    "\n",
    "# Create figure object\n",
    "W_q2_twostar_fig = plt.figure(figsize=(4, 4))\n",
    "\n",
    "# Unions of two-star graphlets defined on five nodes (i.e., one node in common)\n",
    "# Position Nodes\n",
    "node_pos = {1: [0,0], 2: [-1,-1], 3: [1,-1], 4: [-2,0]} \n",
    "\n",
    "# Create four node graphlet\n",
    "W_q2_twostar=nx.Graph()\n",
    "W_q2_twostar.add_nodes_from([1,2,3,4])\n",
    "\n",
    "T_edges  = [[(1,2),(2,3)], [(1,2),(1,3)], [(2,3),(1,3)]]\n",
    "U_edges  = [[(1,2),(2,4)],[(1,2),(1,4)],[(2,4),(1,4)]]\n",
    "\n",
    "TU = list(it.product(T_edges, U_edges))   \n",
    "\n",
    "# Delete graphlet unions that violate W_q definition & redundant isomorphisms\n",
    "del TU[2], TU[4], TU[4], TU[4], TU[2], TU[2]\n",
    "W_q_names = [\"3-star\", \"4-path\", \"4-cycle\"] \n",
    "\n",
    "\n",
    "W_q1_twostar_fig = plt.figure(figsize=(3, 3))\n",
    "\n",
    "for w in range(0,len(TU)):\n",
    "    ax = 'ax'+str(w)\n",
    "    ax = W_q1_twostar_fig.add_subplot(2,2,w+1)\n",
    "    \n",
    "    # Draw current wiring\n",
    "    nx.draw_networkx(W_q2_twostar, pos = node_pos, with_labels=True, node_color='#FDB515', node_size = 200, \\\n",
    "                 edgelist=TU[w][0], edge_color='#003262', width=3)\n",
    "    nx.draw_networkx(W_q2_twostar, pos = node_pos, with_labels=True, node_color='#FDB515', node_size = 200, \\\n",
    "                 edgelist=TU[w][1], edge_color='#00B0DA', width=3)\n",
    "    nx.draw_networkx(W_q2_twostar, pos = node_pos, with_labels=True, node_color='#FDB515', node_size = 00, \\\n",
    "                 edgelist=Sh_edges, edge_color='#003262', style = 'dashed', width=3)\n",
    "    \n",
    "    plt.axis('off') \n",
    "    ax.axes.set_xlim([-2.5,1.5])\n",
    "    ax.axes.set_ylim([-1.5,0.5])\n",
    "    ax.axes.get_xaxis().set_visible(False)\n",
    "    ax.axes.get_yaxis().set_visible(False)\n",
    "    \n",
    "    # Add title\n",
    "    plt.title(str(w+1)+\": \" + W_q_names[w] , fontsize=8)\n",
    "    \n",
    "\n",
    "# Save result\n",
    "plt.tight_layout()\n",
    "plt.savefig(graphics+'W_q2_twostar.png')  \n",
    "\n",
    "#-----------------------------------#\n",
    "#- Wirings (three nodes in common) -#\n",
    "#-----------------------------------#\n",
    "\n",
    "# Create figure object\n",
    "W_q3_twostar_fig = plt.figure(figsize=(4, 4))\n",
    "\n",
    "# Unions of two-star graphlets defined on five nodes (i.e., one node in common)\n",
    "# Position Nodes\n",
    "node_pos = {1: [0,0], 2: [-1,-1], 3: [1,-1]} \n",
    "\n",
    "# Create four node graphlet\n",
    "W_q3_twostar=nx.Graph()\n",
    "W_q3_twostar.add_nodes_from([1,2,3])\n",
    "\n",
    "TU = [[(1,2),(2,3)], [(1,2),(1,3)], [(2,3),(1,3)]]\n",
    "\n",
    "W_q3_twostar_fig = plt.figure(figsize=(3, 3))\n",
    "\n",
    "for w in range(0,len(TU)):\n",
    "    ax = 'ax'+str(w)\n",
    "    ax = W_q1_twostar_fig.add_subplot(2,2,w+1)\n",
    "    \n",
    "    # Draw current wiring\n",
    "    nx.draw_networkx(W_q2_twostar, pos = node_pos, with_labels=True, node_color='#FDB515', node_size = 200, \\\n",
    "                 edgelist=TU[w][0], edge_color='#003262', width=3)\n",
    "    nx.draw_networkx(W_q2_twostar, pos = node_pos, with_labels=True, node_color='#FDB515', node_size = 200, \\\n",
    "                 edgelist=TU[w][1], edge_color='#00B0DA', width=3)\n",
    "    nx.draw_networkx(W_q2_twostar, pos = node_pos, with_labels=True, node_color='#FDB515', node_size = 00, \\\n",
    "                 edgelist=Sh_edges, edge_color='#003262', style = 'dashed', width=3)\n",
    "    \n",
    "    plt.axis('off') \n",
    "    ax.axes.set_xlim([-2.5,1.5])\n",
    "    ax.axes.set_ylim([-1.5,0.5])\n",
    "    ax.axes.get_xaxis().set_visible(False)\n",
    "    ax.axes.get_yaxis().set_visible(False)\n",
    "    \n",
    "    # Add title\n",
    "    plt.title(str(w+1)+\": \" + W_q_names[w] , fontsize=8)\n",
    "    \n",
    "\n",
    "# Save result\n",
    "plt.tight_layout()\n",
    "plt.savefig(graphics+'W_q2_twostar.png')  "
   ]
  },
  {
   "cell_type": "code",
   "execution_count": 7,
   "metadata": {
    "collapsed": false
   },
   "outputs": [
    {
     "data": {
      "image/png": "[encoded data removed]",
      "text/plain": [
       "<matplotlib.figure.Figure at 0x10ee73690>"
      ]
     },
     "metadata": {},
     "output_type": "display_data"
    }
   ],
   "source": [
    "W_q1_example_G=nx.Graph()                    \n",
    "W_q1_example_G.add_nodes_from([1,2,3,4,5,6,7])\n",
    "W_q1_example_G.add_edges_from([(1,2),(2,3),(3,4),(1,4),(4,5),(5,6),(6,7),(7,4)])\n",
    "\n",
    "W_q2_example_G=nx.Graph()                    \n",
    "W_q2_example_G.add_nodes_from([1,2,3,4,5,6])\n",
    "W_q2_example_G.add_edges_from([(1,2),(2,3),(3,4),(1,4),(4,5),(5,6),(6,3)])\n",
    "\n",
    "W_q3_example_G=nx.Graph()                    \n",
    "W_q3_example_G.add_nodes_from([1,2,3,4,5])\n",
    "W_q3_example_G.add_edges_from([(1,2),(2,3),(3,4),(1,4),(4,5),(5,2)])\n",
    "\n",
    "W_q4_example_G=nx.Graph()                    \n",
    "W_q4_example_G.add_nodes_from([1,2,3,4])\n",
    "W_q4_example_G.add_edges_from([(1,2),(2,3),(3,4),(1,4)])\n",
    "\n",
    "# Plot W_q for 4-cycle with q = 1\n",
    "# Position Nodes\n",
    "node_pos = {1: [0,1], 2: [0,0], 3: [1,0], 4: [1,1], 5: [1,-1], 6: [2,-1], 7: [2,0]} \n",
    "\n",
    "# Group edges \n",
    "T_edges  = [(1,2),(2,3),(3,4),(1,4)]\n",
    "U_edges  = [(3,5),(5,6),(6,7),(7,3)]\n",
    "\n",
    "\n",
    "W_q_examples_fig = plt.figure(figsize=(4, 4))\n",
    "ax = W_q_examples_fig.add_subplot(2,2,1)\n",
    "nx.draw_networkx(W_q1_example_G, pos = node_pos, with_labels=True, node_color='#FDB515', node_size = 300, \\\n",
    "                 edgelist=T_edges, edge_color='#003262', width=3)\n",
    "nx.draw_networkx(W_q1_example_G, pos = node_pos, with_labels=True, node_color='#FDB515', node_size = 300, \\\n",
    "                 edgelist=U_edges, edge_color='#00B0DA', width=3)\n",
    "\n",
    "plt.axis('off') \n",
    "ax.axes.set_xlim([-0.25,2.25])\n",
    "ax.axes.set_ylim([-1.25,1.25])\n",
    "ax.axes.get_xaxis().set_visible(False)\n",
    "ax.axes.get_yaxis().set_visible(False)\n",
    "\n",
    "# Add title\n",
    "plt.title(r'$q=1, e_{1}=8$', y=1.15, fontsize=12)\n",
    "\n",
    "# Plot W_q for 4-cycle with q = 2\n",
    "# Position Nodes\n",
    "node_pos = {1: [0,1], 2: [0,0], 3: [1,0], 4: [1,1], 5: [2,1], 6: [2,0]} \n",
    "\n",
    "# Group edges \n",
    "T_edges  = [(1,2),(2,3),(1,4)]\n",
    "Sh_edges = [(3,4)]\n",
    "U_edges  = [(3,4),(4,5),(5,6),(6,3)]\n",
    "\n",
    "ax = W_q_examples_fig.add_subplot(2,2,2)\n",
    "nx.draw_networkx(W_q2_example_G, pos = node_pos, with_labels=True, node_color='#FDB515', node_size = 300, \\\n",
    "                 edgelist=T_edges, edge_color='#003262', width=3)\n",
    "nx.draw_networkx(W_q2_example_G, pos = node_pos, with_labels=True, node_color='#FDB515', node_size = 300, \\\n",
    "                 edgelist=U_edges, edge_color='#00B0DA', width=3)\n",
    "nx.draw_networkx(W_q2_example_G, pos = node_pos, with_labels=True, node_color='#FDB515', node_size = 300, \\\n",
    "                 edgelist=Sh_edges, edge_color='#003262', style = 'dashed', width=3)\n",
    "\n",
    "plt.axis('off') \n",
    "ax.axes.set_xlim([-0.25,2.25])\n",
    "ax.axes.set_ylim([-1.25,1.25])\n",
    "ax.axes.get_xaxis().set_visible(False)\n",
    "ax.axes.get_yaxis().set_visible(False)\n",
    "\n",
    "# Add title\n",
    "plt.title(r'$q=2, e_{2}=7$', y=1.15, fontsize=12)\n",
    "\n",
    "# Plot W_q for 4-cycle with q = 3\n",
    "# Position Nodes\n",
    "node_pos = {1: [0,1], 2: [0,0], 3: [1,0], 4: [1,1], 5: [2,-1]} \n",
    "\n",
    "# Group edges \n",
    "T_edges  = [(1,2),(1,4)]\n",
    "Sh_edges = [(2,3),(3,4)]\n",
    "U_edges  = [(2,3),(3,4),(4,5),(2,5)]\n",
    "\n",
    "\n",
    "\n",
    "ax = W_q_examples_fig.add_subplot(2,2,3)\n",
    "nx.draw_networkx(W_q3_example_G, pos = node_pos, with_labels=True, node_color='#FDB515', node_size = 300, \\\n",
    "                 edgelist=T_edges, edge_color='#003262', width=3)\n",
    "nx.draw_networkx(W_q3_example_G, pos = node_pos, with_labels=True, node_color='#FDB515', node_size = 300, \\\n",
    "                 edgelist=U_edges, edge_color='#00B0DA', width=3)\n",
    "nx.draw_networkx(W_q3_example_G, pos = node_pos, with_labels=True, node_color='#FDB515', node_size = 300, \\\n",
    "                 edgelist=Sh_edges, edge_color='#003262', style = 'dashed', width=3)\n",
    "\n",
    "plt.axis('off') \n",
    "ax.axes.set_xlim([-0.25,2.25])\n",
    "ax.axes.set_ylim([-1.25,1.25])\n",
    "ax.axes.get_xaxis().set_visible(False)\n",
    "ax.axes.get_yaxis().set_visible(False)\n",
    "\n",
    "# Add title\n",
    "plt.title(r'$q=3, e_{3}=6$', y=1.15, fontsize=12)\n",
    "\n",
    "# Plot W_q for 4-cycle with q = 4\n",
    "# Position Nodes\n",
    "node_pos = {1: [0,1], 2: [0,0], 3: [1,0], 4: [1,1]} \n",
    "\n",
    "# Group edges \n",
    "Sh_edges = [(1,2),(2,3),(3,4),(1,4)]\n",
    "U_edges  = [(1,2),(2,3),(3,4),(1,4)]\n",
    "\n",
    "ax = W_q_examples_fig.add_subplot(2,2,4)\n",
    "nx.draw_networkx(W_q4_example_G, pos = node_pos, with_labels=True, node_color='#FDB515', node_size = 300, \\\n",
    "                 edgelist=U_edges, edge_color='#00B0DA', width=3)\n",
    "nx.draw_networkx(W_q4_example_G, pos = node_pos, with_labels=True, node_color='#FDB515', node_size = 300, \\\n",
    "                 edgelist=Sh_edges, edge_color='#003262', style = 'dashed', width=3)\n",
    "\n",
    "plt.axis('off') \n",
    "ax.axes.set_xlim([-0.25,1.25])\n",
    "ax.axes.set_ylim([-0.25,1.25])\n",
    "ax.axes.get_xaxis().set_visible(False)\n",
    "ax.axes.get_yaxis().set_visible(False)\n",
    "\n",
    "# Add title\n",
    "plt.title(r'$q=4, e_{4}=4$', y=1.15, fontsize=12)\n",
    "\n",
    "# Save result\n",
    "plt.tight_layout()\n",
    "plt.savefig(graphics+'W_q_examples.png') "
   ]
  },
  {
   "cell_type": "code",
   "execution_count": null,
   "metadata": {
    "collapsed": true
   },
   "outputs": [],
   "source": []
  }
 ],
 "metadata": {
  "kernelspec": {
   "display_name": "Python 2",
   "language": "python",
   "name": "python2"
  },
  "language_info": {
   "codemirror_mode": {
    "name": "ipython",
    "version": 2
   },
   "file_extension": ".py",
   "mimetype": "text/x-python",
   "name": "python",
   "nbconvert_exporter": "python",
   "pygments_lexer": "ipython2",
   "version": "2.7.11"
  }
 },
 "nbformat": 4,
 "nbformat_minor": 0
}
