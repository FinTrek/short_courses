{
 "cells": [
  {
   "cell_type": "markdown",
   "metadata": {},
   "source": [
    "# Notebook 3: Subgraph Counting & Graph Limits\n",
    "#### Econometric Methods for Networks\n",
    "#### _Singapore Management University (SMU) May 29th to June 1st, 2017_\n",
    "##### _Bryan S. Graham, UC - Berkeley, bgraham@econ.berkeley.edu_\n",
    "<br>\n",
    "<br>\n",
    "This is the third in a series of iPython Jupyter notebooks designed to accompany a series of instructional lectures given at the Singapore Management University (SMU) from May 29th to June 1st, 2017. . The scripts below were written for Python 2.7.12. The Anaconda distribution of Python, available at https://www.continuum.io/downloads, comes bundled with most the scientific computing packages used in these notebooks.\n",
    "<br>\n",
    "<br>\n",
    "For more information about the course please visit my webpage at http://bryangraham.github.io/econometrics/.\n",
    "<br>\n",
    "<br>\n",
    "This notebook creates the figures used in the lecture on subgraph counting. The core references for this lecture are Holland and Leinhardt (1976, _Sociological Methodology_), Bicken, Chen and Levina (2011, _Annals of Statistics_) and Bhattacharya and Bickel (2015, _Annals of Statistics_)"
   ]
  },
  {
   "cell_type": "code",
   "execution_count": 1,
   "metadata": {
    "collapsed": true
   },
   "outputs": [],
   "source": [
    "# Direct Python to plot all figures inline (i.e., not in a separate window)\n",
    "%matplotlib inline\n",
    "\n",
    "# Import matplotlib & networkx\n",
    "import matplotlib.pyplot as plt\n",
    "import networkx as nx\n",
    "import numpy as np\n",
    "import itertools as it\n",
    "\n",
    "# Directory where graphics files will be saved\n",
    "graphics =  '/Users/bgraham/Dropbox/Research/Networks/Networks_Book/Graphics/'"
   ]
  },
  {
   "cell_type": "markdown",
   "metadata": {},
   "source": [
    "# Motif figures\n",
    "The slides and lectures notes incorporate graphics of various _network motifs_ or _graphlets_ inline using LaTex (see the short expository paper by Daniel Glasscock (_Notices of the AMS_ 62 (1): 46 - 48, 2015) for a published example of this type of typeset document. The next code snippet constructs small images of all dyad, triad and tetrad isomorphisms for undirected graphs. These images can be incorporated into LaTex documents. To do this first add the \\usepackage{graphicx} line to your document preamble. Next, to place, for example, a two-star image into a block of inline mathematics just type \"\\vcenter{\\hbox{\\includegraphics[scale=0.50]{twostar.eps}}}\" in the block. The scale parameter controls the size of the image. The graphics file should be in the same directory as your document file. I thank Daniel Glasscock for sharing this \"trick\" with me."
   ]
  },
  {
   "cell_type": "markdown",
   "metadata": {},
   "source": [
    "## Dyad and triad motifs\n",
    "First construct all dyad $(k = 2)$ and triad $(k = 3)$ isomorphisms."
   ]
  },
  {
   "cell_type": "code",
   "execution_count": 2,
   "metadata": {
    "collapsed": false
   },
   "outputs": [
    {
     "data": {
      "image/png": "[encoded data removed]",
      "text/plain": [
       "<matplotlib.figure.Figure at 0x10f925190>"
      ]
     },
     "metadata": {},
     "output_type": "display_data"
    },
    {
     "data": {
      "image/png": "[encoded data removed]",
      "text/plain": [
       "<matplotlib.figure.Figure at 0x111f0aa10>"
      ]
     },
     "metadata": {},
     "output_type": "display_data"
    },
    {
     "data": {
      "image/png": "[encoded data removed]",
      "text/plain": [
       "<matplotlib.figure.Figure at 0x111ff8e90>"
      ]
     },
     "metadata": {},
     "output_type": "display_data"
    },
    {
     "data": {
      "image/png": "[encoded data removed]",
      "text/plain": [
       "<matplotlib.figure.Figure at 0x11207f650>"
      ]
     },
     "metadata": {},
     "output_type": "display_data"
    },
    {
     "data": {
      "image/png": "[encoded data removed]",
      "text/plain": [
       "<matplotlib.figure.Figure at 0x112110510>"
      ]
     },
     "metadata": {},
     "output_type": "display_data"
    },
    {
     "data": {
      "image/png": "[encoded data removed]",
      "text/plain": [
       "<matplotlib.figure.Figure at 0x11209bb90>"
      ]
     },
     "metadata": {},
     "output_type": "display_data"
    }
   ],
   "source": [
    "#---------------------------------#\n",
    "#- Subgraphs with two agents     -#\n",
    "#---------------------------------#\n",
    "\n",
    "noedge=nx.Graph()                       # unconnected dyad  \n",
    "noedge.add_nodes_from([1,2])\n",
    "\n",
    "edge=nx.Graph()                         # connected dyad  \n",
    "edge.add_nodes_from(noedge)\n",
    "edge.add_edges_from([(1,2)])\n",
    "\n",
    "# Generate figures for dyad configurations\n",
    "# Position nodes on a line\n",
    "node_pos = {1: [0,0.5], 2: [2,0.5]} \n",
    "\n",
    "# Empty dyad\n",
    "noedge_fig = plt.figure(figsize=(1, 1))\n",
    "plt.axis('off')    \n",
    "ax = noedge_fig.add_subplot(1,1,1)\n",
    "nx.draw_networkx(noedge, pos=node_pos, with_labels=False, node_color='#FDB515', node_size = 100, \\\n",
    "                 edge_color='#003262', width=2)\n",
    "ax.axes.set_xlim([-0.25,2.25])\n",
    "ax.axes.set_ylim([-0.25,1.25])\n",
    "ax.axes.get_xaxis().set_visible(False)\n",
    "ax.axes.get_yaxis().set_visible(False)\n",
    "\n",
    "# Save result\n",
    "plt.tight_layout()\n",
    "plt.savefig(graphics+'noedge.eps', bbox_inches='tight', dpi=500)  \n",
    "\n",
    "# Connected dyad\n",
    "edge_fig = plt.figure(figsize=(1, 1))\n",
    "plt.axis('off')    \n",
    "ax = edge_fig.add_subplot(1,1,1)\n",
    "nx.draw_networkx(edge, pos=node_pos, with_labels=False, node_color='#FDB515', node_size = 100, \\\n",
    "                 edge_color='#003262', width=2)\n",
    "ax.axes.set_xlim([-0.25,2.25])\n",
    "ax.axes.set_ylim([-0.25,1.25])\n",
    "ax.axes.get_xaxis().set_visible(False)\n",
    "ax.axes.get_yaxis().set_visible(False)\n",
    "\n",
    "# Save result\n",
    "plt.tight_layout()\n",
    "plt.savefig(graphics+'edge.eps', bbox_inches='tight', dpi=500)  \n",
    "\n",
    "#---------------------------------#\n",
    "#- Subgraphs with three agents   -#\n",
    "#---------------------------------#\n",
    "\n",
    "empty=nx.Graph()                        # Empty triad\n",
    "empty.add_nodes_from([1,2,3])\n",
    "\n",
    "oneedge=nx.Graph()                      # One edge triad       \n",
    "oneedge.add_nodes_from(empty)\n",
    "oneedge.add_edges_from([(1,2)])\n",
    "\n",
    "twostar=nx.Graph()                      # Two star triad\n",
    "twostar.add_nodes_from(empty)\n",
    "twostar.add_edges_from([(1,2),(1,3)])\n",
    "\n",
    "triangle=nx.Graph()                     # Triangle triad   \n",
    "triangle.add_nodes_from(empty)\n",
    "triangle.add_edges_from([(1,2),(1,3),(2,3)])\n",
    "\n",
    "# Position nodes in the shape of a triangle\n",
    "node_pos = {1: [1,1], 2: [2,0], 3: [0,0]} \n",
    "\n",
    "# Empty triad\n",
    "empty_fig = plt.figure(figsize=(1, 1))\n",
    "plt.axis('off') \n",
    "ax = empty_fig.add_subplot(1,1,1)\n",
    "nx.draw_networkx(empty, pos=node_pos, with_labels=False, node_color='#FDB515', node_size = 100, \\\n",
    "                 edge_color='#003262', width=2)\n",
    "ax.axes.set_xlim([-0.25,2.25])\n",
    "ax.axes.set_ylim([-0.25,1.25])\n",
    "ax.axes.get_xaxis().set_visible(False)\n",
    "ax.axes.get_yaxis().set_visible(False)\n",
    "\n",
    "# Save result\n",
    "plt.tight_layout()\n",
    "plt.savefig(graphics+'empty.eps', bbox_inches='tight', dpi=500)  \n",
    "\n",
    "# One edge triad\n",
    "oneedge_fig = plt.figure(figsize=(1, 1))\n",
    "plt.axis('off') \n",
    "ax = oneedge_fig.add_subplot(1,1,1)\n",
    "nx.draw_networkx(oneedge, pos=node_pos, with_labels=False, node_color='#FDB515', node_size = 100, \\\n",
    "                 edge_color='#003262', width=2)\n",
    "ax.axes.set_xlim([-0.25,2.25])\n",
    "ax.axes.set_ylim([-0.25,1.25])\n",
    "ax.axes.get_xaxis().set_visible(False)\n",
    "ax.axes.get_yaxis().set_visible(False)\n",
    "\n",
    "# Save result\n",
    "plt.tight_layout()\n",
    "plt.savefig(graphics+'oneedge.eps', bbox_inches='tight', dpi=500)  \n",
    "\n",
    "# Two star triad\n",
    "twostar_fig = plt.figure(figsize=(1, 1))\n",
    "plt.axis('off') \n",
    "ax = twostar_fig.add_subplot(1,1,1)\n",
    "nx.draw_networkx(twostar, pos=node_pos, with_labels=False, node_color='#FDB515', node_size = 100, \\\n",
    "                 edge_color='#003262', width=2)\n",
    "ax.axes.set_xlim([-0.25,2.25])\n",
    "ax.axes.set_ylim([-0.25,1.25])\n",
    "ax.axes.get_xaxis().set_visible(False)\n",
    "ax.axes.get_yaxis().set_visible(False)\n",
    "\n",
    "# Save result\n",
    "plt.tight_layout()\n",
    "plt.savefig(graphics+'twostar.eps', bbox_inches='tight', dpi=500)  \n",
    "\n",
    "# Triangle triad\n",
    "triangle_fig = plt.figure(figsize=(1, 1))\n",
    "plt.axis('off') \n",
    "ax = triangle_fig.add_subplot(1,1,1)\n",
    "nx.draw_networkx(triangle, pos=node_pos, with_labels=False, node_color='#FDB515', node_size = 100, \\\n",
    "                 edge_color='#003262', width=2)\n",
    "ax.axes.set_xlim([-0.25,2.25])\n",
    "ax.axes.set_ylim([-0.25,1.25])\n",
    "ax.axes.get_xaxis().set_visible(False)\n",
    "ax.axes.get_yaxis().set_visible(False)\n",
    "\n",
    "# Save result\n",
    "plt.tight_layout()\n",
    "plt.savefig(graphics+'triangle.eps', bbox_inches='tight', dpi=500) "
   ]
  },
  {
   "cell_type": "markdown",
   "metadata": {},
   "source": [
    "## Tetrad graphlets\n",
    "Next construct the 11 tetrad isomorphisms."
   ]
  },
  {
   "cell_type": "code",
   "execution_count": 3,
   "metadata": {
    "collapsed": false
   },
   "outputs": [
    {
     "data": {
      "image/png": "[encoded data removed]",
      "text/plain": [
       "<matplotlib.figure.Figure at 0x11226f390>"
      ]
     },
     "metadata": {},
     "output_type": "display_data"
    },
    {
     "data": {
      "image/png": "[encoded data removed]",
      "text/plain": [
       "<matplotlib.figure.Figure at 0x1122bdd50>"
      ]
     },
     "metadata": {},
     "output_type": "display_data"
    },
    {
     "data": {
      "image/png": "[encoded data removed]",
      "text/plain": [
       "<matplotlib.figure.Figure at 0x11233eb90>"
      ]
     },
     "metadata": {},
     "output_type": "display_data"
    },
    {
     "data": {
      "image/png": "[encoded data removed]",
      "text/plain": [
       "<matplotlib.figure.Figure at 0x1123dcc10>"
      ]
     },
     "metadata": {},
     "output_type": "display_data"
    },
    {
     "data": {
      "image/png": "[encoded data removed]",
      "text/plain": [
       "<matplotlib.figure.Figure at 0x11245df10>"
      ]
     },
     "metadata": {},
     "output_type": "display_data"
    },
    {
     "data": {
      "image/png": "[encoded data removed]",
      "text/plain": [
       "<matplotlib.figure.Figure at 0x11250ae10>"
      ]
     },
     "metadata": {},
     "output_type": "display_data"
    },
    {
     "data": {
      "image/png": "[encoded data removed]",
      "text/plain": [
       "<matplotlib.figure.Figure at 0x112587990>"
      ]
     },
     "metadata": {},
     "output_type": "display_data"
    },
    {
     "data": {
      "image/png": "[encoded data removed]",
      "text/plain": [
       "<matplotlib.figure.Figure at 0x112635dd0>"
      ]
     },
     "metadata": {},
     "output_type": "display_data"
    },
    {
     "data": {
      "image/png": "[encoded data removed]",
      "text/plain": [
       "<matplotlib.figure.Figure at 0x1126c1d90>"
      ]
     },
     "metadata": {},
     "output_type": "display_data"
    },
    {
     "data": {
      "image/png": "[encoded data removed]",
      "text/plain": [
       "<matplotlib.figure.Figure at 0x112759690>"
      ]
     },
     "metadata": {},
     "output_type": "display_data"
    },
    {
     "data": {
      "image/png": "[encoded data removed]",
      "text/plain": [
       "<matplotlib.figure.Figure at 0x1127e6c50>"
      ]
     },
     "metadata": {},
     "output_type": "display_data"
    }
   ],
   "source": [
    "#---------------------------------#\n",
    "#- Subgraphs with four agents    -#\n",
    "#---------------------------------#\n",
    "\n",
    "tetradempty=nx.Graph()                   # Empty\n",
    "tetradempty.add_nodes_from([1,2,3,4])\n",
    "\n",
    "tetradoneedge=nx.Graph()                 # One edge\n",
    "tetradoneedge.add_nodes_from([1,2,3,4])\n",
    "tetradoneedge.add_edges_from([(1,2)])\n",
    "\n",
    "tetradtwoedge=nx.Graph()                 # Two edge\n",
    "tetradtwoedge.add_nodes_from([1,2,3,4])\n",
    "tetradtwoedge.add_edges_from([(1,2),(3,4)])\n",
    "\n",
    "tetradtwostar=nx.Graph()                 # Two star\n",
    "tetradtwostar.add_nodes_from([1,2,3,4])\n",
    "tetradtwostar.add_edges_from([(1,2),(1,4)])\n",
    "\n",
    "tetradonetriangle=nx.Graph()             # One triangle \n",
    "tetradonetriangle.add_nodes_from([1,2,3,4])\n",
    "tetradonetriangle.add_edges_from([(1,2),(1,4),(2,4)])\n",
    "\n",
    "fourpath=nx.Graph()                      # Four path\n",
    "fourpath.add_nodes_from([1,2,3,4])\n",
    "fourpath.add_edges_from([(1,4),(1,2),(2,3)])\n",
    "\n",
    "onethreewheel=nx.Graph()                 # (1,3) wheel or 3-star\n",
    "onethreewheel.add_nodes_from([1,2,3,4])\n",
    "onethreewheel.add_edges_from([(1,2),(1,3),(1,4)])\n",
    "\n",
    "fourcycle=nx.Graph()                     # Four cycle or square tetrad  \n",
    "fourcycle.add_nodes_from([1,2,3,4])\n",
    "fourcycle.add_edges_from([(1,2),(2,3),(3,4),(4,1)])\n",
    "\n",
    "tailedtriangle=nx.Graph()                # Tailed triangle\n",
    "tailedtriangle.add_nodes_from([1,2,3,4])\n",
    "tailedtriangle.add_edges_from([(1,2),(1,3),(2,3),(1,4)])\n",
    "\n",
    "chordalcycle=nx.Graph()                  # Four chordalcycle\n",
    "chordalcycle.add_nodes_from([1,2,3,4])\n",
    "chordalcycle.add_edges_from([(1,2),(1,3),(2,3),(1,4),(3,4)])\n",
    "\n",
    "clique=nx.Graph()                        # Four clique\n",
    "clique.add_nodes_from([1,2,3,4])\n",
    "clique.add_edges_from([(1,2),(1,3),(2,3),(1,4),(3,4),(2,4)])\n",
    "\n",
    "#------------------------------------------------------------------#\n",
    "#- Create untitled individual plots of all 11 tetrad isomorphisms -#\n",
    "#------------------------------------------------------------------#\n",
    "\n",
    "tetrad_isomorphisms = [tetradempty, tetradoneedge, tetradtwoedge, tetradtwostar, tetradonetriangle, \\\n",
    "                       fourpath, onethreewheel, fourcycle, tailedtriangle, chordalcycle, clique]\n",
    "\n",
    "tetrad_isomorphism_names = [\"Empty\", \"One Edge\", \"Two Edge\", \"Two Star\", \"Triangle\", \"Four Path\", \\\n",
    "                            \"Three Star\", \"Four Cycle\", \"Tailed Triangle\", \"Chordalcycle\", \"Clique\"]\n",
    "\n",
    "tetrad_isomorphism_files = [\"tetradempty\", \"tetradoneedge\", \"tetradtwoedge\", \"tetradtwostar\", \"tetradonetriangle\", \\\n",
    "                            \"fourpath\", \"onethreewheel\", \"fourcycle\", \"tailedtriangle\", \"chordalcycle\", \"clique\"]\n",
    "\n",
    "# Position nodes in the shape of a square\n",
    "node_pos = {1: [0,1], 2: [1,1], 3: [1,0], 4: [0,0]} \n",
    "\n",
    "for tetrad in range(0,len(tetrad_isomorphisms)):\n",
    "\n",
    "    tetrad_fig = plt.figure(figsize=(1, 1))\n",
    "    plt.axis('off') \n",
    "    ax = tetrad_fig.add_subplot(1,1,1)\n",
    "    nx.draw_networkx(tetrad_isomorphisms[tetrad], pos = node_pos, with_labels=False, node_color='#FDB515', \\\n",
    "                     node_size = 100, \\\n",
    "                     edge_color='#003262', width=2)\n",
    "    \n",
    "    ax.axes.set_xlim([-0.25,1.25])\n",
    "    ax.axes.set_ylim([-0.25,1.25])\n",
    "    ax.axes.get_xaxis().set_visible(False)\n",
    "    ax.axes.get_yaxis().set_visible(False)\n",
    "   \n",
    "    # Save result\n",
    "    plt.tight_layout()\n",
    "    plt.savefig(graphics+tetrad_isomorphism_files[tetrad]+'.eps', bbox_inches='tight', dpi=500)"
   ]
  },
  {
   "cell_type": "markdown",
   "metadata": {},
   "source": [
    "# Graphlet Stitchings"
   ]
  },
  {
   "cell_type": "markdown",
   "metadata": {},
   "source": [
    "We encountered the notation of a \"graphlet stitching\" when discussing the asymptotic distribution of induced subgraph frequencies in lecture. This idea is implicit in the work of Bickel and Bhattacharaya (2015, _Annals of Statistics_) and features more explicitly and prominently in some ongoing work of my own. The next two snippets of code construct stitchings of a pair of two star triads with one and two nodes in common. This code could be adapted to construct stitchings of more complicated graphlets, but it is possible that the method used below is not airtight. Specifically it could return an invalid stitching, or fail to return a valid one, in more complicated cases. So please use with caution!"
   ]
  },
  {
   "cell_type": "code",
   "execution_count": 4,
   "metadata": {
    "collapsed": false
   },
   "outputs": [
    {
     "data": {
      "image/png": "[encoded data removed]",
      "text/plain": [
       "<matplotlib.figure.Figure at 0x1128914d0>"
      ]
     },
     "metadata": {},
     "output_type": "display_data"
    }
   ],
   "source": [
    "#-------------------------------------#\n",
    "#- Construct set of possible T and U -#\n",
    "#- unions with exactly q nodes in    -#\n",
    "#- common.                           -#\n",
    "#-------------------------------------#\n",
    "\n",
    "#----------------------------------------------------#\n",
    "#- CASE 1: T,U equals S = two star triad with q = 1 -#\n",
    "#----------------------------------------------------#\n",
    "\n",
    "# Node lists for T and U with q nodes in common\n",
    "T_nodes = [1,2,3]\n",
    "U_nodes = [1,4,5]\n",
    "\n",
    "# List of isomorphisms of S on node sets for T and U\n",
    "T_iso  = [[(1,2),(1,3)],[(1,2),(2,3)],\\\n",
    "          [(1,3),(2,3)]]\n",
    "U_iso  = [[(1,4),(1,5)],[(1,4),(4,5)],\\\n",
    "          [(1,5),(4,5)]]\n",
    "\n",
    "# Initialize set of allowable unions of T and U\n",
    "W_q_set    = []\n",
    "\n",
    "# Form initial list of possible W_q wirings\n",
    "# Loop over all pairs of T and U wirings and join\n",
    "# edge lists to create a W_q Graph if valid to do so\n",
    "# NOTE: with q = 1, all possible joinings are valid; no need to check additional conditions in definition\n",
    "for T in T_iso:\n",
    "    for U in U_iso:\n",
    "        W_q = nx.Graph()\n",
    "        W_q.add_nodes_from([1,2,3,4])\n",
    "        W_q.add_edges_from(list(set(T).difference(set(U))), color='#003262', style='solid')    # In T, but not U\n",
    "        W_q.add_edges_from(list(set(U).difference(set(T))), color='#00B0DA', style='solid')    # In U, but not T\n",
    "        W_q.add_edges_from(list(set(T).intersection(set(U))), color='#EE1F60', style='dashed') # In both T & U\n",
    "        W_q_set.append(W_q)\n",
    "\n",
    "# Remove isomorphisms from W_q list\n",
    "# Loop over all distinct pairs of W_q edge lists\n",
    "for (G,H) in it.combinations(W_q_set, 2):\n",
    "    \n",
    "    # If isomorphism found then remove second graph/edge list from W_q_set\n",
    "    if nx.is_isomorphic(G,H):\n",
    "        if H in W_q_set:\n",
    "            W_q_set.remove(H)\n",
    "        \n",
    "#--------------------------------#\n",
    "#- Draw W_q set                 -#\n",
    "#--------------------------------#\n",
    "\n",
    "W_q1_names = [\"4-Star (1)\", \"Tailed 3-Star (4)\", \"5-Path (4)\"]\n",
    "\n",
    "W_q1_twostar_fig = plt.figure(figsize=(9, 3))\n",
    "\n",
    "# Unions of asymmetic dyad graphlets defined on three nodes (i.e., one node in common)\n",
    "# Position Nodes\n",
    "node_pos = {4: [0,2], 5: [2,2], 2: [2,0], 3: [0,0], 1: [1,1]} \n",
    "\n",
    "for w in range(0,len(W_q_set)):\n",
    "    ax = 'ax'+str(w)\n",
    "    ax = W_q1_twostar_fig.add_subplot(1,3,w+1)\n",
    "  \n",
    "    # Get colors and styles for edges\n",
    "    edges, colors = zip(*nx.get_edge_attributes(W_q_set[w],'color').items())  \n",
    "    edges, styles = zip(*nx.get_edge_attributes(W_q_set[w],'style').items())  \n",
    "\n",
    "    # Draw current wiring\n",
    "    nx.draw_networkx(W_q_set[w], pos = node_pos, with_labels=True, node_color='#FDB515', node_size = 300, \\\n",
    "                     edgelist=edges, edge_color=colors, style=styles, width=3, arrows=True)\n",
    "    \n",
    "    plt.axis('off') \n",
    "    ax.axes.set_xlim([-0.5,2.5])\n",
    "    ax.axes.set_ylim([-0.5,2.5])\n",
    "    ax.axes.get_xaxis().set_visible(False)\n",
    "    ax.axes.get_yaxis().set_visible(False)\n",
    "    \n",
    "    # Add title\n",
    "    plt.title(W_q1_names[w], fontsize=8)\n",
    "    \n",
    "\n",
    "# Save result\n",
    "plt.tight_layout()\n",
    "plt.savefig(graphics+'W_q1_twostar.png', bbox_inches='tight', dpi=500)  "
   ]
  },
  {
   "cell_type": "markdown",
   "metadata": {},
   "source": [
    "Next find the form of $ \\mathcal{W}_{2,S} $ for $ S $ equal to a two star motif."
   ]
  },
  {
   "cell_type": "code",
   "execution_count": 5,
   "metadata": {
    "collapsed": false
   },
   "outputs": [
    {
     "data": {
      "image/png": "[encoded data removed]",
      "text/plain": [
       "<matplotlib.figure.Figure at 0x1126e1290>"
      ]
     },
     "metadata": {},
     "output_type": "display_data"
    }
   ],
   "source": [
    "#----------------------------------------------------#\n",
    "#- CASE 2: T,U equals S = two star triad with q = 2 -#\n",
    "#----------------------------------------------------#\n",
    "\n",
    "# Node lists for T and U with q nodes in common\n",
    "T_nodes = [1,2,3]\n",
    "U_nodes = [1,2,4]\n",
    "\n",
    "# List of isomorphisms of S on node sets for T and U\n",
    "T_iso  = [[(1,2),(1,3)],[(1,2),(2,3)],\\\n",
    "          [(1,3),(2,3)]]\n",
    "U_iso  = [[(1,2),(1,4)],[(1,2),(2,4)],\\\n",
    "          [(1,4),(2,4)]]\n",
    "\n",
    "# Initialize set of allowable unions of T and U\n",
    "W_q_set    = []\n",
    "\n",
    "# Form initial list of possible W_q wirings\n",
    "# Loop over all pairs of T and U wirings and join\n",
    "# edge lists to create a W_q Graph if valid to do so\n",
    "for T in T_iso:\n",
    "    for U in U_iso:\n",
    "        # Check to make sure that if\n",
    "        # nodes i & j are in both T and U, then\n",
    "        # if edge (i,j) is in T it is also in U\n",
    "        # AND if edge (i,j) is not in T it is also not in U\n",
    "        \n",
    "        valid_W_q = False\n",
    "        \n",
    "        for dyad in it.combinations(T_nodes, 2):\n",
    "            if dyad in T:\n",
    "                if all(node in U_nodes for node in dyad) and (dyad in U):\n",
    "                    valid_W_q = True\n",
    "            else:\n",
    "                if all(node in U_nodes for node in dyad) and (dyad not in U):\n",
    "                    valid_W_q = True\n",
    "                    \n",
    "        if valid_W_q:\n",
    "            W_q = nx.Graph()\n",
    "            W_q.add_nodes_from([1,2,3,4])\n",
    "            W_q.add_edges_from(list(set(T).difference(set(U))), color='#003262', style='solid')    # In T, but not U\n",
    "            W_q.add_edges_from(list(set(U).difference(set(T))), color='#00B0DA', style='solid')    # In U, but not T\n",
    "            W_q.add_edges_from(list(set(T).intersection(set(U))), color='#EE1F60', style='dashed') # In both T & U\n",
    "            W_q_set.append(W_q)\n",
    "\n",
    "# Remove isomorphisms from W_q list\n",
    "# Loop over all distinct pairs of W_q edge lists\n",
    "for (G,H) in it.combinations(W_q_set, 2):\n",
    "    \n",
    "    # If isomorphism found then remove second graph/edge list from W_q_set\n",
    "    if nx.is_isomorphic(G,H):\n",
    "        if H in W_q_set:\n",
    "            W_q_set.remove(H)\n",
    "        \n",
    "#--------------------------------#\n",
    "#- Draw W_q set                 -#\n",
    "#--------------------------------#\n",
    "\n",
    "W_q2_names = [\"3-Star (4)\", \"4-path (4)\", \"4-cycle (1)\"]\n",
    "\n",
    "W_q2_twostar_fig = plt.figure(figsize=(9, 3))\n",
    "\n",
    "# Unions of asymmetic dyad graphlets defined on three nodes (i.e., one node in common)\n",
    "# Position Nodes\n",
    "node_pos = [{1: [0,2], 2: [2,2], 3: [2,0], 4: [0,0]}, \\\n",
    "            {1: [0,2], 2: [2,2], 3: [0,0], 4: [2,0]}, \\\n",
    "            {1: [0,2], 2: [2,0], 3: [2,2], 4: [0,0]}]\n",
    "\n",
    "for w in range(0,len(W_q_set)):\n",
    "    ax = 'ax'+str(w)\n",
    "    ax = W_q2_twostar_fig.add_subplot(1,3,w+1)\n",
    "  \n",
    "    # Get colors and styles for edges\n",
    "    edges, colors = zip(*nx.get_edge_attributes(W_q_set[w],'color').items())  \n",
    "    edges, styles = zip(*nx.get_edge_attributes(W_q_set[w],'style').items())  \n",
    " \n",
    "    # Draw current wiring\n",
    "    nx.draw_networkx(W_q_set[w], pos = node_pos[w], with_labels=True, node_color='#FDB515', node_size = 300, \\\n",
    "                     edgelist=edges, edge_color=colors, style=styles, width=3, arrows=True)\n",
    "    \n",
    "    plt.axis('off') \n",
    "    ax.axes.set_xlim([-0.5,2.5])\n",
    "    ax.axes.set_ylim([-0.5,2.5])\n",
    "    ax.axes.get_xaxis().set_visible(False)\n",
    "    ax.axes.get_yaxis().set_visible(False)\n",
    "    \n",
    "    # Add title\n",
    "    plt.title(W_q2_names[w], fontsize=8)\n",
    "    \n",
    "\n",
    "# Save result\n",
    "plt.tight_layout()\n",
    "plt.savefig(graphics+'W_q2_twostar.png', bbox_inches='tight', dpi=500)  \n"
   ]
  },
  {
   "cell_type": "markdown",
   "metadata": {},
   "source": [
    "# Graph Limits\n",
    "The final snippet of code constructs a sequence of pixel plots for adjacency matrices simulated according to a $\\beta$-model with increasing numbers of agents. The final panel in the picture plots the limiting graphon."
   ]
  },
  {
   "cell_type": "code",
   "execution_count": 6,
   "metadata": {
    "collapsed": false
   },
   "outputs": [
    {
     "data": {
      "image/png": "[encoded data removed]",
      "text/plain": [
       "<matplotlib.figure.Figure at 0x1126e47d0>"
      ]
     },
     "metadata": {},
     "output_type": "display_data"
    }
   ],
   "source": [
    "# Set random number seed\n",
    "randst = np.random.RandomState(19)\n",
    "\n",
    "# Network sizes\n",
    "N_list = [1000, 5000, 10000]\n",
    "\n",
    "# Calibrate model to ensure link probabilities lie between zero and one\n",
    "alpha0 = np.log(0.05/0.95)\n",
    "alpha1 = 0.5*(np.log(0.95/0.05) - alpha0)\n",
    "alpha2 = 1\n",
    "\n",
    "graph_limit_fig = plt.figure(figsize=(12,3))\n",
    "\n",
    "# Simulated Beta model for all network sizes in N_list\n",
    "for idx, N in enumerate(N_list):\n",
    "    \n",
    "    # Generate random graph for current value of N\n",
    "    n = N*(N - 1) // 2\n",
    "\n",
    "    # Get multi-indices for lower triangle of N x N matrix\n",
    "    ij_LowTri = np.tril_indices(N, -1)\n",
    "\n",
    "    # Draw agent-level heterogeneity/location parameters\n",
    "    U = randst.uniform(0, 1, (N,1))\n",
    "\n",
    "    # Beta-model graphon\n",
    "    p  = 1/(1+np.exp(-alpha0 - alpha1*(U + U.T)))\n",
    "\n",
    "    # Take random draw of an adjacency matrix for given graphon\n",
    "    D            = np.zeros((N,N), dtype='float64')   # N x N adjacency matrix\n",
    "    D[ij_LowTri] = np.ravel(randst.uniform(0, 1, (n,)) <= p[ij_LowTri])\n",
    "    D            = D + D.T\n",
    "\n",
    "    # Create n = N choose 2 vectors with the dyad types as values\n",
    "    u = np.zeros((N,N))\n",
    "    v = np.zeros((N,N))\n",
    "\n",
    "    for (i,j) in it.combinations(xrange(0,N), 2):\n",
    "        u[i,j] = U[i]\n",
    "        v[i,j] = U[j]\n",
    "    \n",
    "    u = u + u.T\n",
    "    v = v + v.T\n",
    "\n",
    "    #--------------------------------------------#\n",
    "    #- Create figure object with three subplots -#\n",
    "    #--------------------------------------------#\n",
    "\n",
    "    # Plot pixel picture of current adjacency matrix\n",
    "    ax = graph_limit_fig.add_subplot(1,4,idx+1)\n",
    "\n",
    "    # Scatter of adjacency matrix; edgecolors of pixels same as faces\n",
    "    plt.scatter(v[ij_LowTri],u[ij_LowTri],c=D[ij_LowTri], marker='s', cmap=\"YlGnBu\", \\\n",
    "                edgecolors='face')\n",
    "\n",
    "    # Set axis limits \n",
    "    plt.ylim([0,1])\n",
    "    plt.xlim([0,1])\n",
    "\n",
    "    # Label and configure axes to put pixel plot in \"matrix form\"\n",
    "    ax.xaxis.tick_top() # Put x-axis on top of figure\n",
    "    ax.set_xlabel(r'$u_{j}$', fontsize=12)\n",
    "    ax.xaxis.set_label_position('top') \n",
    "\n",
    "    ax.invert_yaxis()  # Invert y-axis \n",
    "    ax.set_ylabel(r'$u_{i}$', fontsize=12)\n",
    "\n",
    "    # Add title\n",
    "    plt.title(r\"N = \" + str(N), y=1.25, fontsize=12)\n",
    "    \n",
    "#------------------------------------------------------------#    \n",
    "#- Plot limiting graphon function as final panel in figures -#\n",
    "#------------------------------------------------------------#    \n",
    "\n",
    "# Create mesh grid of x, y, z values\n",
    "U_grid  = np.linspace(0, 1, 100)\n",
    "u, v    = np.meshgrid(U_grid, U_grid)\n",
    "h       = 1/(1+np.exp(-alpha0 - alpha1*(u + v) - alpha2*np.abs(u - v))) #Homophily graphon\n",
    "\n",
    "# Create figure object\n",
    "ax = graph_limit_fig.add_subplot(144)\n",
    "\n",
    "# Create contour \"heat map\" with 20 levels\n",
    "cs1 = ax.contourf(u, v, h, levels=np.linspace(0, 1, 21), \\\n",
    "           origin='upper', extent=(0,1,0,1), cmap=\"YlGnBu\")\n",
    "\n",
    "# Add contour lines to plot\n",
    "cs2 = plt.contour(cs1, \\\n",
    "                  colors='green', linewidths = 1)\n",
    "# Add color bar\n",
    "cbar = graph_limit_fig.colorbar(cs1, format=\"%.2f\").add_lines(cs2)\n",
    "\n",
    "# Label and configure axes to put graphon plot in \"matrix form\"\n",
    "# (i.e., place origin in upper-left-hand corner)\n",
    "ax.xaxis.tick_top() # Put x-axis on top of figure\n",
    "ax.set_xlabel(r'$u_{j}$', fontsize=12)\n",
    "ax.xaxis.set_label_position('top') \n",
    "\n",
    "ax.invert_yaxis()  # Invert y-axis \n",
    "ax.set_ylabel(r'$u_{i}$', fontsize=12)\n",
    "\n",
    "# Add title\n",
    "plt.title(\"Graphon\", y=1.25, fontsize=12)\n",
    "\n",
    "# Save the figure\n",
    "plt.savefig(graphics+'graph_limit_fig.png', bbox_inches='tight', dpi=500)    "
   ]
  },
  {
   "cell_type": "code",
   "execution_count": 7,
   "metadata": {
    "collapsed": false
   },
   "outputs": [
    {
     "data": {
      "text/html": [
       "<style>\n",
       "\n",
       "html {\n",
       "  font-size: 62.5% !important; }\n",
       "body {\n",
       "  font-size: 1.5em !important; /* currently ems cause chrome bug misinterpreting rems on body element */\n",
       "  line-height: 1.6 !important;\n",
       "  font-weight: 400 !important;\n",
       "  font-family: \"Raleway\", \"HelveticaNeue\", \"Helvetica Neue\", Helvetica, Arial, sans-serif !important;\n",
       "  color: #222 !important; }\n",
       "\n",
       "div{ border-radius: 0px !important;  }\n",
       "div.CodeMirror-sizer{ background: rgb(244, 244, 248) !important; }\n",
       "div.input_area{ background: rgb(244, 244, 248) !important; }\n",
       "\n",
       "div.out_prompt_overlay:hover{ background: rgb(244, 244, 248) !important; }\n",
       "div.input_prompt:hover{ background: rgb(244, 244, 248) !important; }\n",
       "\n",
       "h1, h2, h3, h4, h5, h6 {\n",
       "  color: #333 !important;\n",
       "  margin-top: 0 !important;\n",
       "  margin-bottom: 2rem !important;\n",
       "  font-weight: 300 !important; }\n",
       "h1 { font-size: 4.0rem !important; line-height: 1.2 !important;  letter-spacing: -.1rem !important;}\n",
       "h2 { font-size: 3.6rem !important; line-height: 1.25 !important; letter-spacing: -.1rem !important; }\n",
       "h3 { font-size: 3.0rem !important; line-height: 1.3 !important;  letter-spacing: -.1rem !important; }\n",
       "h4 { font-size: 2.4rem !important; line-height: 1.35 !important; letter-spacing: -.08rem !important; }\n",
       "h5 { font-size: 1.8rem !important; line-height: 1.5 !important;  letter-spacing: -.05rem !important; }\n",
       "h6 { font-size: 1.5rem !important; line-height: 1.6 !important;  letter-spacing: 0 !important; }\n",
       "\n",
       "@media (min-width: 550px) {\n",
       "  h1 { font-size: 5.0rem !important; }\n",
       "  h2 { font-size: 4.2rem !important; }\n",
       "  h3 { font-size: 3.6rem !important; }\n",
       "  h4 { font-size: 3.0rem !important; }\n",
       "  h5 { font-size: 2.4rem !important; }\n",
       "  h6 { font-size: 1.5rem !important; }\n",
       "}\n",
       "\n",
       "p {\n",
       "  margin-top: 0 !important; }\n",
       "  \n",
       "a {\n",
       "  color: #1EAEDB !important; }\n",
       "a:hover {\n",
       "  color: #0FA0CE !important; }\n",
       "  \n",
       "code {\n",
       "  padding: .2rem .5rem !important;\n",
       "  margin: 0 .2rem !important;\n",
       "  font-size: 90% !important;\n",
       "  white-space: nowrap !important;\n",
       "  background: #F1F1F1 !important;\n",
       "  border: 1px solid #E1E1E1 !important;\n",
       "  border-radius: 4px !important; }\n",
       "pre > code {\n",
       "  display: block !important;\n",
       "  padding: 1rem 1.5rem !important;\n",
       "  white-space: pre !important; }\n",
       "  \n",
       "button{ border-radius: 0px !important; }\n",
       ".navbar-inner{ background-image: none !important;  }\n",
       "select, textarea{ border-radius: 0px !important; }\n",
       "\n",
       "</style>"
      ],
      "text/plain": [
       "<IPython.core.display.HTML object>"
      ]
     },
     "execution_count": 7,
     "metadata": {},
     "output_type": "execute_result"
    }
   ],
   "source": [
    "# This imports an attractive notebook style from Github\n",
    "from IPython.core.display import HTML\n",
    "import urllib2\n",
    "HTML(urllib2.urlopen('http://bit.ly/1Bf5Hft').read())"
   ]
  }
 ],
 "metadata": {
  "kernelspec": {
   "display_name": "Python 2",
   "language": "python",
   "name": "python2"
  },
  "language_info": {
   "codemirror_mode": {
    "name": "ipython",
    "version": 2
   },
   "file_extension": ".py",
   "mimetype": "text/x-python",
   "name": "python",
   "nbconvert_exporter": "python",
   "pygments_lexer": "ipython2",
   "version": "2.7.13"
  }
 },
 "nbformat": 4,
 "nbformat_minor": 0
}
