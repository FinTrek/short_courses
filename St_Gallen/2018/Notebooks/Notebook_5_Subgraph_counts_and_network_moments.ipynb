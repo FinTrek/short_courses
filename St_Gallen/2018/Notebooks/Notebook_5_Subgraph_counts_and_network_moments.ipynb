{
 "cells": [
  {
   "cell_type": "markdown",
   "metadata": {},
   "source": [
    "# Notebook 5: Subgraph Counts and Network Moments\n",
    "#### Econometric Methods for Social Spillovers and Networks\n",
    "#### University of St. Gallen, October 1st to 9th, 2018\n",
    "##### _Bryan S. Graham, UC - Berkeley, bgraham@econ.berkeley.edu_\n",
    "This is the fifth of a series of iPython Jupyter notebooks designed to accompany a series of instructional lectures given at the St. Gallen University from Oct 1st to Oct 9th, 2018. The scripts below were written for Python 3.6. The Anaconda distribution of Python, available at https://www.continuum.io/downloads, comes bundled with most the scientific computing packages used in these notebooks.\n",
    "<br>\n",
    "<br>\n",
    "For more information about the course please visit my webpage at http://bryangraham.github.io/econometrics/.\n",
    "<br>\n",
    "<br>\n",
    "This notebook presents materials related to subgraph or motif counting. Subgraph counts, with an emphasis on the triad census, were introduced by Holland and Leinhardt (1976). A full distribution theory for subgraph counts is presented by Bickel el al. (2011) -- although important antecedents to this work also exist (including the original Holland and Leinhardt (1976) paper). More references on subgraph counting are provided in my _Handbook of Econometrics_ chapter. The paper by Bhattacharya and Bickel (2015) discusses methods of variance estimation for subgraph counts, which can be computationally intensive.   \n",
    "<br>\n",
    "#### References    \n",
    "Bickel, Peter J. and Chen, Aiyou and Levina, Elizaveta. (2011). \"The method of moments and degree distributions for network models,\" _Annals of Statistics_ 39 (5): 2280 - 2301.  \n",
    "<br>\n",
    "Bhattacharya, Sharmodeep and Bickel, Peter J. (2015). \"Subsampling bootstrap of count features of networks,\" _Annals of Statistics_ 43 (6): 2384 - 2411.    \n",
    "<br>\n",
    "Holland, Paul W. and Leinhardt, Samuel. (1976). \"Local structure in social networks,\" _Sociological Methodology_ 7: 1- 45."
   ]
  },
  {
   "cell_type": "markdown",
   "metadata": {},
   "source": [
    "#### Code citation:\n",
    "Graham, Bryan S. (2018). \"Notebook 5: Subgraph Counts and Network Moments: St. Gallen Social and Economic Networks Course Jupyter Notebook,\" (Version 1.0) [Computer program]. Available at http://bryangraham.github.io/econometrics/ (Accessed 20 September 2018)"
   ]
  },
  {
   "cell_type": "code",
   "execution_count": 1,
   "metadata": {},
   "outputs": [],
   "source": [
    "# Direct Python to plot all figures inline (i.e., not in a separate window)\n",
    "%matplotlib inline\n",
    "\n",
    "# Import main scientific computing modules\n",
    "import matplotlib.pyplot as plt\n",
    "import networkx as nx\n",
    "import numpy as np\n",
    "import scipy as sp\n",
    "import scipy.optimize\n",
    "import scipy.stats\n",
    "import pandas as pd\n",
    "import itertools as it\n",
    "\n",
    "# Import speed-up modules\n",
    "from numba import jit, vectorize\n",
    "import numexpr as ne\n",
    "\n",
    "# Directory where data files are stored and graphics files will be saved\n",
    "data =     '/Users/bgraham/Dropbox/Teaching/Short_Courses/St_Gallen/2018/Data/'\n",
    "graphics = '/Users/bgraham/Dropbox/Teaching/Short_Courses/St_Gallen/2018/Graphics/'"
   ]
  },
  {
   "cell_type": "markdown",
   "metadata": {},
   "source": [
    "This gets rid of an irritating deprecation warning that I have been unable to adjust my code directly to eliminate."
   ]
  },
  {
   "cell_type": "code",
   "execution_count": 2,
   "metadata": {},
   "outputs": [],
   "source": [
    "import warnings\n",
    "import matplotlib.cbook\n",
    "warnings.filterwarnings(\"ignore\",category=matplotlib.cbook.mplDeprecation)"
   ]
  },
  {
   "cell_type": "markdown",
   "metadata": {},
   "source": [
    "This first block of code draws all isomorphisms of two and three node (undirected) subgraph configurations. These images can be rendered inline in LaTex documents. To do this add the command \"\\usepackage{graphicx}\" to your preamble and also add the line \"\\graphicspath{{/Directory/Where/Your/Image/Files/Are/}}\". Then in a math environment the following command will cause an image to be placed inline: \"\\vcenter{\\hbox{\\includegraphics[scale=0.50]{triangle.eps}}}\". Adjust the scale number to change the sizing of the imagine."
   ]
  },
  {
   "cell_type": "code",
   "execution_count": 3,
   "metadata": {},
   "outputs": [
    {
     "data": {
      "image/png": "[encoded data removed]",
      "text/plain": [
       "<Figure size 108x108 with 1 Axes>"
      ]
     },
     "metadata": {
      "needs_background": "light"
     },
     "output_type": "display_data"
    },
    {
     "data": {
      "image/png": "[encoded data removed]",
      "text/plain": [
       "<Figure size 108x108 with 1 Axes>"
      ]
     },
     "metadata": {
      "needs_background": "light"
     },
     "output_type": "display_data"
    },
    {
     "data": {
      "image/png": "[encoded data removed]",
      "text/plain": [
       "<Figure size 108x108 with 1 Axes>"
      ]
     },
     "metadata": {
      "needs_background": "light"
     },
     "output_type": "display_data"
    },
    {
     "data": {
      "image/png": "[encoded data removed]",
      "text/plain": [
       "<Figure size 108x108 with 1 Axes>"
      ]
     },
     "metadata": {
      "needs_background": "light"
     },
     "output_type": "display_data"
    },
    {
     "data": {
      "image/png": "[encoded data removed]",
      "text/plain": [
       "<Figure size 108x108 with 1 Axes>"
      ]
     },
     "metadata": {
      "needs_background": "light"
     },
     "output_type": "display_data"
    },
    {
     "data": {
      "image/png": "[encoded data removed]",
      "text/plain": [
       "<Figure size 108x108 with 1 Axes>"
      ]
     },
     "metadata": {
      "needs_background": "light"
     },
     "output_type": "display_data"
    },
    {
     "data": {
      "image/png": "[encoded data removed]",
      "text/plain": [
       "<Figure size 432x144 with 4 Axes>"
      ]
     },
     "metadata": {
      "needs_background": "light"
     },
     "output_type": "display_data"
    }
   ],
   "source": [
    "#---------------------------------#\n",
    "#- Subgraphs with two agents     -#\n",
    "#---------------------------------#\n",
    "\n",
    "noedge=nx.Graph()                       # unconnected dyad  \n",
    "noedge.add_nodes_from([1,2])\n",
    "\n",
    "edge=nx.Graph()                         # connected dyad  \n",
    "edge.add_nodes_from(noedge)\n",
    "edge.add_edges_from([(1,2)])\n",
    "\n",
    "# Generate figures for dyad configurations\n",
    "# Position nodes on a line\n",
    "node_pos = {1: [0,0.5], 2: [1,0.5]} \n",
    "\n",
    "# Empty dyad\n",
    "noedge_fig = plt.figure(figsize=(1.5, 1.5))\n",
    "plt.axis('off')    \n",
    "ax = noedge_fig.add_subplot(1,1,1)\n",
    "nx.draw_networkx(noedge, pos=node_pos, with_labels=False, node_color='#FDB515', node_size = 150, \\\n",
    "                 edge_color='#003262', width=2)\n",
    "ax.axes.set_xlim([-0.25,1.25])\n",
    "ax.axes.set_ylim([-0.25,1.25])\n",
    "ax.axes.get_xaxis().set_visible(False)\n",
    "ax.axes.get_yaxis().set_visible(False)\n",
    "\n",
    "# Save result\n",
    "plt.tight_layout()\n",
    "plt.savefig(graphics+'noedge.eps', bbox_inches='tight', dpi=500)  \n",
    "\n",
    "# Connected dyad\n",
    "edge_fig = plt.figure(figsize=(1.5, 1.5))\n",
    "plt.axis('off')    \n",
    "ax = edge_fig.add_subplot(1,1,1)\n",
    "nx.draw_networkx(edge, pos=node_pos, with_labels=False, node_color='#FDB515', node_size = 150, \\\n",
    "                 edge_color='#003262', width=2)\n",
    "ax.axes.set_xlim([-0.25,1.25])\n",
    "ax.axes.set_ylim([-0.25,1.25])\n",
    "ax.axes.get_xaxis().set_visible(False)\n",
    "ax.axes.get_yaxis().set_visible(False)\n",
    "\n",
    "# Save result\n",
    "plt.tight_layout()\n",
    "plt.savefig(graphics+'edge.eps', bbox_inches='tight', dpi=500)  \n",
    "\n",
    "#---------------------------------#\n",
    "#- Subgraphs with three agents   -#\n",
    "#---------------------------------#\n",
    "\n",
    "empty=nx.Graph()                        # Empty triad\n",
    "empty.add_nodes_from([1,2,3])\n",
    "\n",
    "oneedge=nx.Graph()                      # One edge triad       \n",
    "oneedge.add_nodes_from(empty)\n",
    "oneedge.add_edges_from([(1,2)])\n",
    "\n",
    "twostar=nx.Graph()                      # Two star triad\n",
    "twostar.add_nodes_from(empty)\n",
    "twostar.add_edges_from([(1,2),(1,3)])\n",
    "\n",
    "triangle=nx.Graph()                     # Triangle triad   \n",
    "triangle.add_nodes_from(empty)\n",
    "triangle.add_edges_from([(1,2),(1,3),(2,3)])\n",
    "\n",
    "# Position nodes in the shape of a triangle\n",
    "node_pos = {1: [0.5,1], 2: [1,0], 3: [0,0]} \n",
    "\n",
    "# Empty triad\n",
    "empty_fig = plt.figure(figsize=(1.5, 1.5))\n",
    "plt.axis('off') \n",
    "ax = empty_fig.add_subplot(1,1,1)\n",
    "nx.draw_networkx(empty, pos=node_pos, with_labels=False, node_color='#FDB515', node_size = 150, \\\n",
    "                 edge_color='#003262', width=2)\n",
    "ax.axes.set_xlim([-0.25,1.25])\n",
    "ax.axes.set_ylim([-0.25,1.25])\n",
    "ax.axes.get_xaxis().set_visible(False)\n",
    "ax.axes.get_yaxis().set_visible(False)\n",
    "\n",
    "# Save result\n",
    "plt.tight_layout()\n",
    "plt.savefig(graphics+'empty.eps', bbox_inches='tight', dpi=500)  \n",
    "\n",
    "# One edge triad\n",
    "oneedge_fig = plt.figure(figsize=(1.5, 1.5))\n",
    "plt.axis('off') \n",
    "ax = oneedge_fig.add_subplot(1,1,1)\n",
    "nx.draw_networkx(oneedge, pos=node_pos, with_labels=False, node_color='#FDB515', node_size = 150, \\\n",
    "                 edge_color='#003262', width=2)\n",
    "ax.axes.set_xlim([-0.25,1.25])\n",
    "ax.axes.set_ylim([-0.25,1.25])\n",
    "ax.axes.get_xaxis().set_visible(False)\n",
    "ax.axes.get_yaxis().set_visible(False)\n",
    "\n",
    "# Save result\n",
    "plt.tight_layout()\n",
    "plt.savefig(graphics+'oneedge.eps', bbox_inches='tight', dpi=500)  \n",
    "\n",
    "# Two star triad\n",
    "twostar_fig = plt.figure(figsize=(1.5, 1.5))\n",
    "plt.axis('off') \n",
    "ax = twostar_fig.add_subplot(1,1,1)\n",
    "nx.draw_networkx(twostar, pos=node_pos, with_labels=False, node_color='#FDB515', node_size = 150, \\\n",
    "                 edge_color='#003262', width=2)\n",
    "ax.axes.set_xlim([-0.25,1.25])\n",
    "ax.axes.set_ylim([-0.25,1.25])\n",
    "ax.axes.get_xaxis().set_visible(False)\n",
    "ax.axes.get_yaxis().set_visible(False)\n",
    "\n",
    "# Save result\n",
    "plt.tight_layout()\n",
    "plt.savefig(graphics+'twostar.eps', bbox_inches='tight', dpi=500)  \n",
    "\n",
    "# Triangle triad\n",
    "triangle_fig = plt.figure(figsize=(1.5, 1.5))\n",
    "plt.axis('off') \n",
    "ax = triangle_fig.add_subplot(1,1,1)\n",
    "nx.draw_networkx(triangle, pos=node_pos, with_labels=False, node_color='#FDB515', node_size = 150, \\\n",
    "                 edge_color='#003262', width=2)\n",
    "ax.axes.set_xlim([-0.25,1.25])\n",
    "ax.axes.set_ylim([-0.25,1.25])\n",
    "ax.axes.get_xaxis().set_visible(False)\n",
    "ax.axes.get_yaxis().set_visible(False)\n",
    "\n",
    "# Save result\n",
    "plt.tight_layout()\n",
    "plt.savefig(graphics+'triangle.eps', bbox_inches='tight', dpi=500)\n",
    "\n",
    "#---------------------------------------------------------------------#\n",
    "#- Create figure object to plot all 4 triad isomorphisms with titles -#\n",
    "#---------------------------------------------------------------------#\n",
    "\n",
    "triad_isomorphisms = [empty, oneedge, twostar, triangle]\n",
    "\n",
    "triad_isomorphism_names = [\"Empty\", \"One Edge\", \"Two Star\", \"Triangle\"]\n",
    "\n",
    "# Position nodes in the shape of a triangle\n",
    "node_pos = {1: [1,1], 2: [2,0], 3: [0,0]} \n",
    "\n",
    "triad_isomorphisms_fig = plt.figure(figsize=(6, 2))\n",
    "\n",
    "for triad in range(0,len(triad_isomorphisms)):\n",
    "    ax = 'ax'+str(triad)\n",
    "    ax = triad_isomorphisms_fig.add_subplot(1,4,triad+1)\n",
    "    \n",
    "    # Draw Isomorphism\n",
    "    nx.draw_networkx(triad_isomorphisms[triad], pos = node_pos, with_labels=False, node_color='#FDB515', \\\n",
    "                     node_size = 150, \\\n",
    "                     edge_color='#003262', width=2)\n",
    "    \n",
    "    plt.axis('off') \n",
    "    ax.axes.set_xlim([-0.25,2.25])\n",
    "    ax.axes.set_ylim([-0.25,1.25])\n",
    "    ax.axes.get_xaxis().set_visible(False)\n",
    "    ax.axes.get_yaxis().set_visible(False)\n",
    "    \n",
    "    # Add title\n",
    "    plt.title(triad_isomorphism_names[triad] , fontsize=10, y = -0.25)\n",
    "    \n",
    "# Save result\n",
    "plt.tight_layout()\n",
    "plt.savefig(graphics+'undirected_triad_isomorphisms_fig.eps', bbox_inches='tight', dpi=500)\n",
    "plt.savefig(graphics+'undirected_triad_isomorphisms_fig.png', bbox_inches='tight', dpi=500)  "
   ]
  },
  {
   "cell_type": "markdown",
   "metadata": {},
   "source": [
    "This next block of code draws all tetrad isomorphisms."
   ]
  },
  {
   "cell_type": "code",
   "execution_count": 4,
   "metadata": {},
   "outputs": [
    {
     "data": {
      "image/png": "[encoded data removed]",
      "text/plain": [
       "<Figure size 360x288 with 11 Axes>"
      ]
     },
     "metadata": {
      "needs_background": "light"
     },
     "output_type": "display_data"
    }
   ],
   "source": [
    "#---------------------------------#\n",
    "#- Subgraphs with four agents    -#\n",
    "#---------------------------------#\n",
    "\n",
    "tetradempty=nx.Graph()                   # Empty\n",
    "tetradempty.add_nodes_from([1,2,3,4])\n",
    "\n",
    "tetradoneedge=nx.Graph()                 # One edge\n",
    "tetradoneedge.add_nodes_from([1,2,3,4])\n",
    "tetradoneedge.add_edges_from([(1,2)])\n",
    "\n",
    "tetradtwoedge=nx.Graph()                 # Two edge\n",
    "tetradtwoedge.add_nodes_from([1,2,3,4])\n",
    "tetradtwoedge.add_edges_from([(1,2),(3,4)])\n",
    "\n",
    "tetradtwostar=nx.Graph()                 # Two star\n",
    "tetradtwostar.add_nodes_from([1,2,3,4])\n",
    "tetradtwostar.add_edges_from([(1,2),(1,4)])\n",
    "\n",
    "tetradonetriangle=nx.Graph()             # One triangle \n",
    "tetradonetriangle.add_nodes_from([1,2,3,4])\n",
    "tetradonetriangle.add_edges_from([(1,2),(1,4),(2,4)])\n",
    "\n",
    "fourpath=nx.Graph()                      # Four path\n",
    "fourpath.add_nodes_from([1,2,3,4])\n",
    "fourpath.add_edges_from([(1,4),(1,2),(2,3)])\n",
    "\n",
    "onethreewheel=nx.Graph()                 # (1,3) wheel or 3-star\n",
    "onethreewheel.add_nodes_from([1,2,3,4])\n",
    "onethreewheel.add_edges_from([(1,2),(1,3),(1,4)])\n",
    "\n",
    "fourcycle=nx.Graph()                     # Four cycle or square tetrad  \n",
    "fourcycle.add_nodes_from([1,2,3,4])\n",
    "fourcycle.add_edges_from([(1,2),(2,3),(3,4),(4,1)])\n",
    "\n",
    "tailedtriangle=nx.Graph()                # Tailed triangle\n",
    "tailedtriangle.add_nodes_from([1,2,3,4])\n",
    "tailedtriangle.add_edges_from([(1,2),(1,3),(2,3),(1,4)])\n",
    "\n",
    "chordalcycle=nx.Graph()                  # Four chordalcycle\n",
    "chordalcycle.add_nodes_from([1,2,3,4])\n",
    "chordalcycle.add_edges_from([(1,2),(1,3),(2,3),(1,4),(3,4)])\n",
    "\n",
    "clique=nx.Graph()                        # Four clique\n",
    "clique.add_nodes_from([1,2,3,4])\n",
    "clique.add_edges_from([(1,2),(1,3),(2,3),(1,4),(3,4),(2,4)])\n",
    "\n",
    "#----------------------------------------------------------------#\n",
    "#- Create figure object to plot all 11 isomorphisms with titles -#\n",
    "#----------------------------------------------------------------#\n",
    "\n",
    "tetrad_isomorphisms = [tetradempty, tetradoneedge, tetradtwoedge, tetradtwostar, tetradonetriangle, \\\n",
    "                       fourpath, onethreewheel, fourcycle, tailedtriangle, chordalcycle, clique]\n",
    "\n",
    "tetrad_isomorphism_names = [\"Empty\", \"One Edge\", \"Two Edge\", \"Two Star\", \"Triangle\", \"Four Path\", \\\n",
    "                            \"Three Star\", \"Four Cycle\", \"Tailed Triangle\", \"Chordalcycle\", \"Clique\"]\n",
    "\n",
    "# Position nodes in the shape of a square\n",
    "node_pos = {1: [0,1], 2: [1,1], 3: [1,0], 4: [0,0]} \n",
    "\n",
    "tetrad_isomorphisms_fig = plt.figure(figsize=(5, 4))\n",
    "\n",
    "for tetrad in range(0,len(tetrad_isomorphisms)):\n",
    "    ax = 'ax'+str(tetrad)\n",
    "    ax = tetrad_isomorphisms_fig.add_subplot(3,4,tetrad+1)\n",
    "  \n",
    "    # Draw Isomorphism\n",
    "    nx.draw_networkx(tetrad_isomorphisms[tetrad], pos = node_pos, with_labels=False, node_color='#FDB515', \\\n",
    "                     node_size = 150, \\\n",
    "                     edge_color='#003262', width=2)\n",
    "    \n",
    "    plt.axis('off') \n",
    "    ax.axes.set_xlim([-0.25,1.25])\n",
    "    ax.axes.set_ylim([-0.25,1.25])\n",
    "    ax.axes.get_xaxis().set_visible(False)\n",
    "    ax.axes.get_yaxis().set_visible(False)\n",
    "    \n",
    "    # Add title\n",
    "    plt.title(tetrad_isomorphism_names[tetrad] , fontsize=10, y = -0.25)\n",
    "    \n",
    "# Save result\n",
    "plt.tight_layout()\n",
    "plt.savefig(graphics+'undirected_tetrad_isomorphisms_fig.eps', bbox_inches='tight', dpi=500)  \n",
    "plt.savefig(graphics+'undirected_tetrad_isomorphisms_fig.png', bbox_inches='tight', dpi=500)  "
   ]
  },
  {
   "cell_type": "markdown",
   "metadata": {},
   "source": [
    "Next create untitled individual plots of all 11 tetrad isomorphisms for inline placement."
   ]
  },
  {
   "cell_type": "code",
   "execution_count": 5,
   "metadata": {},
   "outputs": [
    {
     "data": {
      "image/png": "[encoded data removed]",
      "text/plain": [
       "<Figure size 108x108 with 1 Axes>"
      ]
     },
     "metadata": {
      "needs_background": "light"
     },
     "output_type": "display_data"
    },
    {
     "data": {
      "image/png": "[encoded data removed]",
      "text/plain": [
       "<Figure size 108x108 with 1 Axes>"
      ]
     },
     "metadata": {
      "needs_background": "light"
     },
     "output_type": "display_data"
    },
    {
     "data": {
      "image/png": "[encoded data removed]",
      "text/plain": [
       "<Figure size 108x108 with 1 Axes>"
      ]
     },
     "metadata": {
      "needs_background": "light"
     },
     "output_type": "display_data"
    },
    {
     "data": {
      "image/png": "[encoded data removed]",
      "text/plain": [
       "<Figure size 108x108 with 1 Axes>"
      ]
     },
     "metadata": {
      "needs_background": "light"
     },
     "output_type": "display_data"
    },
    {
     "data": {
      "image/png": "[encoded data removed]",
      "text/plain": [
       "<Figure size 108x108 with 1 Axes>"
      ]
     },
     "metadata": {
      "needs_background": "light"
     },
     "output_type": "display_data"
    },
    {
     "data": {
      "image/png": "[encoded data removed]",
      "text/plain": [
       "<Figure size 108x108 with 1 Axes>"
      ]
     },
     "metadata": {
      "needs_background": "light"
     },
     "output_type": "display_data"
    },
    {
     "data": {
      "image/png": "[encoded data removed]",
      "text/plain": [
       "<Figure size 108x108 with 1 Axes>"
      ]
     },
     "metadata": {
      "needs_background": "light"
     },
     "output_type": "display_data"
    },
    {
     "data": {
      "image/png": "[encoded data removed]",
      "text/plain": [
       "<Figure size 108x108 with 1 Axes>"
      ]
     },
     "metadata": {
      "needs_background": "light"
     },
     "output_type": "display_data"
    },
    {
     "data": {
      "image/png": "[encoded data removed]",
      "text/plain": [
       "<Figure size 108x108 with 1 Axes>"
      ]
     },
     "metadata": {
      "needs_background": "light"
     },
     "output_type": "display_data"
    },
    {
     "data": {
      "image/png": "[encoded data removed]",
      "text/plain": [
       "<Figure size 108x108 with 1 Axes>"
      ]
     },
     "metadata": {
      "needs_background": "light"
     },
     "output_type": "display_data"
    },
    {
     "data": {
      "image/png": "[encoded data removed]",
      "text/plain": [
       "<Figure size 108x108 with 1 Axes>"
      ]
     },
     "metadata": {
      "needs_background": "light"
     },
     "output_type": "display_data"
    }
   ],
   "source": [
    "#------------------------------------------------------------------#\n",
    "#- Create untitled individual plots of all 11 tetrad isomorphisms -#\n",
    "#------------------------------------------------------------------#\n",
    "\n",
    "tetrad_isomorphism_files = [\"tetradempty\", \"tetradoneedge\", \"tetradtwoedge\", \"tetradtwostar\", \"tetradonetriangle\", \\\n",
    "                            \"fourpath\", \"onethreewheel\", \"fourcycle\", \"tailedtriangle\", \"chordalcycle\", \"clique\"]\n",
    "\n",
    "\n",
    "for tetrad in range(0,len(tetrad_isomorphisms)):\n",
    "\n",
    "    tetrad_fig = plt.figure(figsize=(1.5, 1.5))\n",
    "    ax = triangle_fig.add_subplot(1,1,1)\n",
    "    plt.axis('off') \n",
    "    nx.draw_networkx(tetrad_isomorphisms[tetrad], pos = node_pos, with_labels=False, node_color='#FDB515', \\\n",
    "                     node_size = 150, \\\n",
    "                     edge_color='#003262', width=2)\n",
    "    \n",
    "    ax.axes.set_xlim([-0.25,1.25])\n",
    "    ax.axes.set_ylim([-0.25,1.25])\n",
    "    ax.axes.get_xaxis().set_visible(False)\n",
    "    ax.axes.get_yaxis().set_visible(False)\n",
    "   \n",
    "    # Save result\n",
    "    plt.tight_layout()\n",
    "    plt.savefig(graphics+tetrad_isomorphism_files[tetrad]+'.eps', bbox_inches='tight', dpi=500)"
   ]
  },
  {
   "cell_type": "markdown",
   "metadata": {},
   "source": [
    "This plots a subset of all possible pentad wirings."
   ]
  },
  {
   "cell_type": "code",
   "execution_count": 6,
   "metadata": {},
   "outputs": [
    {
     "data": {
      "image/png": "[encoded data removed]",
      "text/plain": [
       "<Figure size 108x108 with 1 Axes>"
      ]
     },
     "metadata": {
      "needs_background": "light"
     },
     "output_type": "display_data"
    },
    {
     "data": {
      "image/png": "[encoded data removed]",
      "text/plain": [
       "<Figure size 108x108 with 1 Axes>"
      ]
     },
     "metadata": {
      "needs_background": "light"
     },
     "output_type": "display_data"
    },
    {
     "data": {
      "image/png": "[encoded data removed]",
      "text/plain": [
       "<Figure size 108x108 with 1 Axes>"
      ]
     },
     "metadata": {
      "needs_background": "light"
     },
     "output_type": "display_data"
    },
    {
     "data": {
      "image/png": "[encoded data removed]",
      "text/plain": [
       "<Figure size 108x108 with 1 Axes>"
      ]
     },
     "metadata": {
      "needs_background": "light"
     },
     "output_type": "display_data"
    },
    {
     "data": {
      "image/png": "[encoded data removed]",
      "text/plain": [
       "<Figure size 108x108 with 1 Axes>"
      ]
     },
     "metadata": {
      "needs_background": "light"
     },
     "output_type": "display_data"
    },
    {
     "data": {
      "image/png": "[encoded data removed]",
      "text/plain": [
       "<Figure size 108x108 with 1 Axes>"
      ]
     },
     "metadata": {
      "needs_background": "light"
     },
     "output_type": "display_data"
    }
   ],
   "source": [
    "#-----------------------------------#\n",
    "#- Subgraphs with five agents      -#\n",
    "#-----------------------------------#\n",
    "\n",
    "emptypentad=nx.Graph()                  # empty pentad  \n",
    "emptypentad.add_nodes_from([1,2,3,4,5])\n",
    "\n",
    "fourstar=nx.Graph()                     # 4-star  \n",
    "fourstar.add_nodes_from(emptypentad)\n",
    "fourstar.add_edges_from([(1,2),(1,3),(1,4),(1,5)])\n",
    "\n",
    "tailedthreestar=nx.Graph()              # tailed 3-star  \n",
    "tailedthreestar.add_nodes_from(emptypentad)\n",
    "tailedthreestar.add_edges_from([(1,2),(1,3),(1,4),(4,5)])\n",
    "\n",
    "fivepath=nx.Graph()                     # 5-path  \n",
    "fivepath.add_nodes_from(emptypentad)\n",
    "fivepath.add_edges_from([(1,2),(2,3),(1,4),(4,5)])\n",
    "\n",
    "twotriangle=nx.Graph()                  # 2-triangle  \n",
    "twotriangle.add_nodes_from(emptypentad)\n",
    "twotriangle.add_edges_from([(1,2),(1,3),(2,3),(1,4),(1,5),(4,5)])\n",
    "\n",
    "twotailedtriangle=nx.Graph()            # 2-tailed triangle  \n",
    "twotailedtriangle.add_nodes_from(emptypentad)\n",
    "twotailedtriangle.add_edges_from([(1,2),(1,3),(2,3),(1,4),(1,5)])\n",
    "\n",
    "rattailedtriangle=nx.Graph()            # rat tailed triangle  \n",
    "rattailedtriangle.add_nodes_from(emptypentad)\n",
    "rattailedtriangle.add_edges_from([(1,2),(1,3),(2,3),(1,4),(4,5)])\n",
    "\n",
    "# Generate figures for dyad configurations\n",
    "# Position nodes on a line\n",
    "node_pos = {1: [0.5,0.5], 2: [0,1], 3: [1,1], 4: [1,0], 5: [0,0]}\n",
    "\n",
    "# 4-star\n",
    "fourstar_fig = plt.figure(figsize=(1.5, 1.5))\n",
    "plt.axis('off')    \n",
    "ax = fourstar_fig.add_subplot(1,1,1)\n",
    "nx.draw_networkx(fourstar, pos=node_pos, with_labels=False, node_color='#FDB515', node_size = 150, \\\n",
    "                 edge_color='#003262', width=2)\n",
    "ax.axes.set_xlim([-0.25,1.25])\n",
    "ax.axes.set_ylim([-0.25,1.25])\n",
    "ax.axes.get_xaxis().set_visible(False)\n",
    "ax.axes.get_yaxis().set_visible(False)\n",
    "\n",
    "# Save result\n",
    "plt.tight_layout()\n",
    "plt.savefig(graphics+'fourstar.eps', bbox_inches='tight', dpi=500)  \n",
    "\n",
    "# tailed 3-star  \n",
    "tailedthreestar_fig = plt.figure(figsize=(1.5, 1.5))\n",
    "plt.axis('off')    \n",
    "ax = tailedthreestar_fig.add_subplot(1,1,1)\n",
    "nx.draw_networkx(tailedthreestar, pos=node_pos, with_labels=False, node_color='#FDB515', node_size = 150, \\\n",
    "                 edge_color='#003262', width=2)\n",
    "ax.axes.set_xlim([-0.25,1.25])\n",
    "ax.axes.set_ylim([-0.25,1.25])\n",
    "ax.axes.get_xaxis().set_visible(False)\n",
    "ax.axes.get_yaxis().set_visible(False)\n",
    "\n",
    "# Save result\n",
    "plt.tight_layout()\n",
    "plt.savefig(graphics+'tailedthreestar.eps', bbox_inches='tight', dpi=500)  \n",
    "\n",
    "# 5-path  \n",
    "fivepath_fig = plt.figure(figsize=(1.5, 1.5))\n",
    "plt.axis('off')    \n",
    "ax = fivepath_fig.add_subplot(1,1,1)\n",
    "nx.draw_networkx(fivepath, pos=node_pos, with_labels=False, node_color='#FDB515', node_size = 150, \\\n",
    "                 edge_color='#003262', width=2)\n",
    "ax.axes.set_xlim([-0.25,1.25])\n",
    "ax.axes.set_ylim([-0.25,1.25])\n",
    "ax.axes.get_xaxis().set_visible(False)\n",
    "ax.axes.get_yaxis().set_visible(False)\n",
    "\n",
    "# Save result\n",
    "plt.tight_layout()\n",
    "plt.savefig(graphics+'fivepath.eps', bbox_inches='tight', dpi=500)  \n",
    "\n",
    "# 2-triangle  \n",
    "twotriangle_fig = plt.figure(figsize=(1.5, 1.5))\n",
    "plt.axis('off')    \n",
    "ax = twotriangle_fig.add_subplot(1,1,1)\n",
    "nx.draw_networkx(twotriangle, pos=node_pos, with_labels=False, node_color='#FDB515', node_size = 150, \\\n",
    "                 edge_color='#003262', width=2)\n",
    "ax.axes.set_xlim([-0.25,1.25])\n",
    "ax.axes.set_ylim([-0.25,1.25])\n",
    "ax.axes.get_xaxis().set_visible(False)\n",
    "ax.axes.get_yaxis().set_visible(False)\n",
    "\n",
    "# Save result\n",
    "plt.tight_layout()\n",
    "plt.savefig(graphics+'twotriangle.eps', bbox_inches='tight', dpi=500)  \n",
    "\n",
    "# 2-tailed triangle  \n",
    "twotailedtriangle_fig = plt.figure(figsize=(1.5, 1.5))\n",
    "plt.axis('off')    \n",
    "ax = twotailedtriangle_fig.add_subplot(1,1,1)\n",
    "nx.draw_networkx(twotailedtriangle, pos=node_pos, with_labels=False, node_color='#FDB515', node_size = 150, \\\n",
    "                 edge_color='#003262', width=2)\n",
    "ax.axes.set_xlim([-0.25,1.25])\n",
    "ax.axes.set_ylim([-0.25,1.25])\n",
    "ax.axes.get_xaxis().set_visible(False)\n",
    "ax.axes.get_yaxis().set_visible(False)\n",
    "\n",
    "# Save result\n",
    "plt.tight_layout()\n",
    "plt.savefig(graphics+'twotailedtriangle.eps', bbox_inches='tight', dpi=500)  \n",
    "\n",
    "# rat-tailed triangle  \n",
    "rattailedtriangle_fig = plt.figure(figsize=(1.5, 1.5))\n",
    "plt.axis('off')    \n",
    "ax = rattailedtriangle_fig.add_subplot(1,1,1)\n",
    "nx.draw_networkx(rattailedtriangle, pos=node_pos, with_labels=False, node_color='#FDB515', node_size = 150, \\\n",
    "                 edge_color='#003262', width=2)\n",
    "ax.axes.set_xlim([-0.25,1.25])\n",
    "ax.axes.set_ylim([-0.25,1.25])\n",
    "ax.axes.get_xaxis().set_visible(False)\n",
    "ax.axes.get_yaxis().set_visible(False)\n",
    "\n",
    "# Save result\n",
    "plt.tight_layout()\n",
    "plt.savefig(graphics+'rattailedtriangle.eps', bbox_inches='tight', dpi=500)  "
   ]
  },
  {
   "cell_type": "markdown",
   "metadata": {},
   "source": [
    "## $W_{q,S}$ for S a two star and $q = 1, 2$"
   ]
  },
  {
   "cell_type": "markdown",
   "metadata": {},
   "source": [
    "All possible graphlet stitchings of a pair of two-stars with a single node in common."
   ]
  },
  {
   "cell_type": "code",
   "execution_count": 7,
   "metadata": {},
   "outputs": [
    {
     "data": {
      "image/png": "[encoded data removed]",
      "text/plain": [
       "<Figure size 432x432 with 15 Axes>"
      ]
     },
     "metadata": {
      "needs_background": "light"
     },
     "output_type": "display_data"
    }
   ],
   "source": [
    "#-------------------------------------#\n",
    "#- Construct set of possible T and U -#\n",
    "#- unions with exactly q nodes in    -#\n",
    "#- common.                           -#\n",
    "#-------------------------------------#\n",
    "\n",
    "#--------------------------------------------------#\n",
    "#- CASE: T,U equals S = two star triad with q = 1 -#\n",
    "#--------------------------------------------------#\n",
    "\n",
    "# Node lists for T and U with q nodes in common\n",
    "T_nodes = [1,2,3]\n",
    "U_nodes = [1,4,5]\n",
    "\n",
    "# List of isomorphisms of S on node sets for T and U\n",
    "T_iso  = [[(1,2),(1,3)],[(1,2),(2,3)],[(1,3),(2,3)]]\n",
    "U_iso  = [[(1,4),(1,5)],[(1,4),(4,5)],[(1,5),(4,5)]]\n",
    "non_overlapping_dyads = [(2,4),(2,5),(3,4),(3,5)]\n",
    "\n",
    "# Initialize set of allowable unions of T and U\n",
    "W_q_set    = []\n",
    "\n",
    "# Form initial list of possible W_q wirings\n",
    "# Loop over all pairs of T and U wirings and join\n",
    "# edge lists to create a W_q Graph if valid to do so\n",
    "for T in T_iso:\n",
    "    for U in U_iso:\n",
    "        \n",
    "        # Check to make sure that if\n",
    "        # nodes i & j are in both T and U, then\n",
    "        # if edge (i,j) is in T it is also in U (and vice versa)\n",
    "        \n",
    "        valid_W_q = True\n",
    "        \n",
    "        for edge in T:\n",
    "            if all(node in U_nodes for node in edge) and edge not in U and (edge[1], edge[0]) not in U:\n",
    "                valid_W_q = False\n",
    "                \n",
    "        for edge in U:\n",
    "            if all(node in T_nodes for node in edge) and edge not in T and (edge[1], edge[0]) not in T:\n",
    "                valid_W_q = False\n",
    "        \n",
    "        if valid_W_q:\n",
    "            W_q = nx.Graph(copies = 1)\n",
    "            W_q.add_nodes_from([1,2,3,4,5])\n",
    "            \n",
    "            # Edges in T, but not U\n",
    "            W_q.add_edges_from(list(set(T).difference(set(U))), color='#003262', style='solid', width = 4) \n",
    "            \n",
    "            # Edges in U, but not T\n",
    "            W_q.add_edges_from(list(set(U).difference(set(T))), color='#00B0DA', style='solid', width = 4)    \n",
    "            \n",
    "            # Edges in both T & U\n",
    "            W_q.add_edges_from(list(set(T).intersection(set(U))), color='#EE1F60', style='dashed', width = 4) \n",
    "            \n",
    "            W_q_set.append(W_q)                                                                    \n",
    "\n",
    "# Add in possible edges between nonoverlapping nodes T & U\n",
    "for W_q in W_q_set:\n",
    "    W_q.add_edges_from(non_overlapping_dyads, color='#D3D3D3', style='dashed', width = 2)              \n",
    "            \n",
    "            \n",
    "# Loop over all distinct pairs of W_q edge lists and construct multiset\n",
    "W_q_multiset = W_q_set[:]\n",
    "for (G,H) in it.combinations(W_q_multiset, 2):\n",
    "    # If isomorphism found then remove second graph/edge list from W_q_multiset\n",
    "    if nx.is_isomorphic(G,H):\n",
    "        G.graph['copies'] += 1           # increment isomorphism count on retained exemplar\n",
    "        if H in W_q_multiset:            # remove found isomorphism\n",
    "            W_q_multiset.remove(H)\n",
    "        \n",
    "#--------------------------------#\n",
    "#- Draw W_q set                 -#\n",
    "#--------------------------------#\n",
    "\n",
    "W_q1_twostar_fig = plt.figure(figsize=(6, 6))\n",
    "\n",
    "# Unions of two star graphlets defined on five nodes (i.e., one node in common)\n",
    "# Position Nodes\n",
    "node_pos = {1: [-3,0], 2: [-2,-2], 3: [2,-2], 4: [-2,2], 5: [2,2]} \n",
    "\n",
    "s = 0\n",
    "for w in [6, 7, 8, 10, 11, 12, 14, 15, 16]:\n",
    "        \n",
    "    ax = 'ax'+str(w)\n",
    "    ax = W_q1_twostar_fig.add_subplot(4,4,w)\n",
    "  \n",
    "    # Get colors and styles for edges\n",
    "    edges, colors = zip(*nx.get_edge_attributes(W_q_set[s],'color').items())  \n",
    "    edges, styles = zip(*nx.get_edge_attributes(W_q_set[s],'style').items())  \n",
    "    edges, widths = zip(*nx.get_edge_attributes(W_q_set[s],'width').items())  \n",
    "\n",
    "    # Draw current wiring\n",
    "    nx.draw_networkx(W_q_set[s], pos = node_pos, with_labels=True, node_color='#FDB515', node_size = 200, \\\n",
    "                     edgelist=edges, edge_color=colors, style=styles, width=widths, arrows=True)\n",
    "    \n",
    "    stitching_names = ['4-Star', 'Tailed 3-Star', 'Tailed 3-Star', \\\n",
    "                       'Tailed 3-Star', '5-Path', '5-Path', \\\n",
    "                       'Tailed 3-Star', '5-Path', '5-Path']\n",
    "    \n",
    "    plt.axis('off') \n",
    "    ax.axes.set_xlim([-3.5,2.5])\n",
    "    ax.axes.set_ylim([-2.5,2.5])\n",
    "    ax.axes.get_xaxis().set_visible(False)\n",
    "    ax.axes.get_yaxis().set_visible(False)\n",
    "    \n",
    "    # Add title\n",
    "    plt.title(stitching_names[s], fontsize=8)\n",
    "    \n",
    "    # Increment counter\n",
    "    s += 1\n",
    "\n",
    "s = 0    \n",
    "for w in [2, 3, 4]:\n",
    "        \n",
    "    ax = 'ax'+str(w)\n",
    "    ax = W_q1_twostar_fig.add_subplot(4,4,w)  \n",
    "    \n",
    "    nx.draw_networkx(nx.Graph(U_iso[s]), pos = node_pos, with_labels=True, node_color='#FDB515', node_size = 200, \\\n",
    "                     edge_color= '#00B0DA', width = 4, arrows=True)\n",
    "    \n",
    "    plt.axis('off') \n",
    "    ax.axes.set_xlim([-3.5,2.5])\n",
    "    ax.axes.set_ylim([-2.5,2.5])\n",
    "    ax.axes.get_xaxis().set_visible(False)\n",
    "    ax.axes.get_yaxis().set_visible(False)\n",
    "    \n",
    "    s += 1\n",
    "    \n",
    "s = 0    \n",
    "for w in [5, 9, 13]:\n",
    "        \n",
    "    ax = 'ax'+str(w)\n",
    "    ax = W_q1_twostar_fig.add_subplot(4,4,w)  \n",
    "    \n",
    "    nx.draw_networkx(nx.Graph(T_iso[s]), pos = node_pos, with_labels=True, node_color='#FDB515', node_size = 200, \\\n",
    "                     edge_color= '#003262', width = 4, arrows=True)\n",
    "    \n",
    "    plt.axis('off') \n",
    "    ax.axes.set_xlim([-3.5,2.5])\n",
    "    ax.axes.set_ylim([-2.5,2.5])\n",
    "    ax.axes.get_xaxis().set_visible(False)\n",
    "    ax.axes.get_yaxis().set_visible(False)\n",
    "    \n",
    "    s += 1    \n",
    "\n",
    "# Save result\n",
    "plt.tight_layout()\n",
    "plt.savefig(graphics+'W_q1_twostar.png', dpi=500) "
   ]
  },
  {
   "cell_type": "markdown",
   "metadata": {},
   "source": [
    "All possible graphlet stitchings of a pair of two-stars with two nodes in common."
   ]
  },
  {
   "cell_type": "code",
   "execution_count": 8,
   "metadata": {},
   "outputs": [
    {
     "data": {
      "image/png": "[encoded data removed]",
      "text/plain": [
       "<Figure size 432x432 with 15 Axes>"
      ]
     },
     "metadata": {
      "needs_background": "light"
     },
     "output_type": "display_data"
    }
   ],
   "source": [
    "#-------------------------------------#\n",
    "#- Construct set of possible T and U -#\n",
    "#- unions with exactly q nodes in    -#\n",
    "#- common.                           -#\n",
    "#-------------------------------------#\n",
    "\n",
    "#--------------------------------------------------#\n",
    "#- CASE: T,U equals S = two star triad with q = 2 -#\n",
    "#--------------------------------------------------#\n",
    "\n",
    "# Node lists for T and U with q nodes in common\n",
    "T_nodes = [1,2,3]\n",
    "U_nodes = [1,2,4]\n",
    "\n",
    "# List of isomorphisms of S on node sets for T and U\n",
    "T_iso  = [[(1,2),(1,3)],[(1,2),(2,3)],[(1,3),(2,3)]]\n",
    "U_iso  = [[(1,2),(1,4)],[(1,2),(2,4)],[(1,4),(2,4)]]\n",
    "non_overlapping_dyads = [(3,4)]\n",
    "\n",
    "# Initialize set of allowable unions of T and U\n",
    "W_q_set    = []\n",
    "\n",
    "# Form initial list of possible W_q wirings\n",
    "# Loop over all pairs of T and U wirings and join\n",
    "# edge lists to create a W_q Graph if valid to do so\n",
    "for T in T_iso:\n",
    "    for U in U_iso:\n",
    "        \n",
    "        # Check to make sure that if\n",
    "        # nodes i & j are in both T and U, then\n",
    "        # if edge (i,j) is in T it is also in U (and vice versa)\n",
    "        \n",
    "        valid_W_q = True\n",
    "        \n",
    "        for edge in T:\n",
    "            if all(node in U_nodes for node in edge) and edge not in U and (edge[1], edge[0]) not in U:\n",
    "                valid_W_q = False\n",
    "                \n",
    "        for edge in U:\n",
    "            if all(node in T_nodes for node in edge) and edge not in T and (edge[1], edge[0]) not in T:\n",
    "                valid_W_q = False\n",
    "                \n",
    "        if valid_W_q:\n",
    "            W_q = nx.Graph(copies = 1)\n",
    "            W_q.add_nodes_from([1,2,3,4])\n",
    "            \n",
    "            # Edges in T, but not U\n",
    "            W_q.add_edges_from(list(set(T).difference(set(U))), color='#003262', style='solid', width = 4) \n",
    "            \n",
    "            # Edges in U, but not T\n",
    "            W_q.add_edges_from(list(set(U).difference(set(T))), color='#00B0DA', style='solid', width = 4)    \n",
    "            \n",
    "            # Edges in both T & U\n",
    "            W_q.add_edges_from(list(set(T).intersection(set(U))), color='#EE1F60', style='dashed', width = 4) \n",
    "            \n",
    "            W_q_set.append(W_q)\n",
    "        else:\n",
    "            W_q_set.append(\"Stitching not feasible\")\n",
    "            \n",
    "\n",
    "# Add in possible edges between nonoverlapping nodes T & U\n",
    "for W_q in W_q_set:\n",
    "    if W_q != \"Stitching not feasible\":\n",
    "        W_q.add_edges_from(non_overlapping_dyads, color='#D3D3D3', style='dashed', width = 2)              \n",
    "            \n",
    "            \n",
    "# Loop over all distinct pairs of W_q edge lists and construct multiset\n",
    "W_q_multiset = [W_q for W_q in W_q_set if W_q != \"Stitching not feasible\"]\n",
    "for (G,H) in it.combinations(W_q_multiset, 2):\n",
    "    # If isomorphism found then remove second graph/edge list from W_q_multiset\n",
    "    if nx.is_isomorphic(G,H):\n",
    "        G.graph['copies'] += 1           # increment isomorphism count on retained exemplar\n",
    "        if H in W_q_multiset:            # remove found isomorphism\n",
    "            W_q_multiset.remove(H)\n",
    "        \n",
    "#--------------------------------#\n",
    "#- Draw W_q set                 -#\n",
    "#--------------------------------#\n",
    "\n",
    "W_q2_twostar_fig = plt.figure(figsize=(6, 6))\n",
    "\n",
    "# Unions of twostar triad graphlets defined on four nodes (i.e., two nodes in common)\n",
    "# Position Nodes\n",
    "node_pos = {1: [-2,0], 2: [2,0], 3: [-2,-2], 4: [2,2]} \n",
    "\n",
    "s = 0\n",
    "for w in [6, 7, 8, 10, 11, 12, 14, 15, 16]:\n",
    "        \n",
    "    ax = 'ax'+str(w)\n",
    "    ax = W_q2_twostar_fig.add_subplot(4,4,w)\n",
    "  \n",
    "    if W_q_set[s] != \"Stitching not feasible\":\n",
    "     \n",
    "        # Get colors and styles for edges\n",
    "        edges, colors = zip(*nx.get_edge_attributes(W_q_set[s],'color').items())  \n",
    "        edges, styles = zip(*nx.get_edge_attributes(W_q_set[s],'style').items())  \n",
    "        edges, widths = zip(*nx.get_edge_attributes(W_q_set[s],'width').items())  \n",
    "\n",
    "        # Draw current wiring\n",
    "        nx.draw_networkx(W_q_set[s], pos = node_pos, with_labels=True, node_color='#FDB515', node_size = 200, \\\n",
    "                         edgelist=edges, edge_color=colors, style=styles, width=widths, arrows=True)\n",
    "    \n",
    "    else:\n",
    "        plt.text(0.5,0.5,'Stitching \\n Not Feasible', horizontalalignment='center', verticalalignment='center', \\\n",
    "                    transform = ax.transAxes, fontsize=8)\n",
    "    \n",
    "    stitching_names = ['4-Star', '4-Path', '', \\\n",
    "                       '4-Path', '4-Star', '', \\\n",
    "                       '', '', '4-Cycle']\n",
    "    \n",
    "    plt.axis('off') \n",
    "    ax.axes.set_xlim([-4,3])\n",
    "    ax.axes.set_ylim([-2.5,2.5])\n",
    "    ax.axes.get_xaxis().set_visible(False)\n",
    "    ax.axes.get_yaxis().set_visible(False)\n",
    "    \n",
    "    # Add title\n",
    "    plt.title(stitching_names[s], fontsize=8)\n",
    "    \n",
    "    # Increment counter\n",
    "    s += 1\n",
    "\n",
    "s = 0    \n",
    "for w in [2, 3, 4]:\n",
    "        \n",
    "    ax = 'ax'+str(w)\n",
    "    ax = W_q2_twostar_fig.add_subplot(4,4,w)  \n",
    "    \n",
    "    nx.draw_networkx(nx.Graph(U_iso[s]), pos = node_pos, with_labels=True, node_color='#FDB515', node_size = 200, \\\n",
    "                     edge_color= '#00B0DA', width = 4, arrows=True)\n",
    "    \n",
    "    plt.axis('off') \n",
    "    ax.axes.set_xlim([-4,3])\n",
    "    ax.axes.set_ylim([-2.5,2.5])\n",
    "    ax.axes.get_xaxis().set_visible(False)\n",
    "    ax.axes.get_yaxis().set_visible(False)\n",
    "    \n",
    "    s += 1\n",
    "    \n",
    "s = 0    \n",
    "for w in [5, 9, 13]:\n",
    "        \n",
    "    ax = 'ax'+str(w)\n",
    "    ax = W_q2_twostar_fig.add_subplot(4,4,w)  \n",
    "    \n",
    "    nx.draw_networkx(nx.Graph(T_iso[s]), pos = node_pos, with_labels=True, node_color='#FDB515', node_size = 200, \\\n",
    "                     edge_color= '#003262', width = 4, arrows=True)\n",
    "    \n",
    "    plt.axis('off') \n",
    "    ax.axes.set_xlim([-3,3])\n",
    "    ax.axes.set_ylim([-2.5,2.5])\n",
    "    ax.axes.get_xaxis().set_visible(False)\n",
    "    ax.axes.get_yaxis().set_visible(False)\n",
    "    \n",
    "    s += 1        \n",
    "\n",
    "# Save result\n",
    "plt.tight_layout()\n",
    "plt.savefig(graphics+'W_q2_twostar.png', dpi=500) "
   ]
  },
  {
   "cell_type": "markdown",
   "metadata": {},
   "source": [
    "## Calculate the standard error of the transitivity index\n",
    "This next block of code defines a function which calculates the variance-covariance matrix for the estimated two-star and triad frequencies. The basic method is as outlined in Bhattacharya and Bickel (2015). The function is not especially fast to execute, but is sufficient for small and medium-sized networks (up to a few hundred nodes). Clearly improving scaleability of this implementation would be very valuable."
   ]
  },
  {
   "cell_type": "code",
   "execution_count": 9,
   "metadata": {},
   "outputs": [],
   "source": [
    "import random\n",
    "\n",
    "def random_combination(iterable, r):\n",
    "    \"Random selection from itertools.combinations(iterable, r)\"\n",
    "    pool = tuple(iterable)\n",
    "    n = len(pool)\n",
    "    indices = sorted(random.sample(range(n), r))\n",
    "    return tuple(pool[i] for i in indices)\n",
    "\n",
    "def transitivity(G, B=None, display=True):\n",
    "    \n",
    "    \"\"\"\n",
    "    This function computes the induced subgraph frequency of two stars and triangles in\n",
    "    network G. It also computes a variance-covariance matrix for these freqencies using\n",
    "    the approach outlined in Bickel and Bhattacharya (Annals of Statistics, 2015). The\n",
    "    transitivity coefficient is also estimated and its variance calculated using the\n",
    "    delta method.\n",
    "    \n",
    "    INPUTS:\n",
    "    -------\n",
    "    G        : a networkx graph object (undirected)\n",
    "    B        : number of subsamples to take for variance estimation. If None use all relevant subgraphs.\n",
    "    display  : if true then display results, otherwise suppress output\n",
    "    \n",
    "    OUTPUTS:\n",
    "    --------\n",
    "    P        : 2 x 1 numpy 2d array with P(triangle) and P(two-star) as elements\n",
    "    OMEGA    : 2 x 2 numpy 2d variance-covariance of P based on B pentad subsamples\n",
    "    TI       : transtivity index (scalar)\n",
    "    VAR_TI   : variance of transitivity index (via delta method, also scalar)\n",
    "    \n",
    "    FUNCTIONS CALLED:\n",
    "    -----------------\n",
    "    ...random_combination()...\n",
    "    \n",
    "    \"\"\"\n",
    "    \n",
    "    # Functions using the numexpr module to quickly evaluate the summands entering XI_q1 matrix\n",
    "    # of the variance-covariance matrix OMEGA\n",
    "    \n",
    "    def XIq1_00(D_ij, D_ik, D_jk, D_il, D_im, D_lm):\n",
    "       \n",
    "        return ne.evaluate('D_ij*D_ik*D_jk*D_il*D_im*D_lm')\n",
    "    \n",
    "    def XIq1_01(D_ij, D_ik, D_jk, D_il, D_im, D_lm):\n",
    "       \n",
    "        return ne.evaluate('D_ij*D_ik*D_jk*((1-D_il)*D_im*D_lm + D_il*(1-D_im)*D_lm + D_il*D_im*(1-D_lm))')\n",
    "    \n",
    "    def XIq1_11(D_ij, D_ik, D_jk, D_il, D_im, D_lm):\n",
    "       \n",
    "        return ne.evaluate('((1-D_ij)*D_ik*D_jk + D_ij*(1-D_ik)*D_jk + D_ij*D_ik*(1-D_jk))*((1-D_il)*D_im*D_lm + D_il*(1-D_im)*D_lm + D_il*D_im*(1-D_lm))')\n",
    "        \n",
    "    N = len(G.nodes())\n",
    "    D = np.asarray(nx.to_numpy_matrix(G))\n",
    "    \n",
    "    # Normalize mean and variance vector/matrix\n",
    "    P       = np.array([[0.],[0.]])    \n",
    "    XIq1    = np.array([[0.,0.],[0.,0.]])\n",
    "            \n",
    "    #---------------------------------------------------------#\n",
    "    #- Calculate the number of triangles and two-stars in G  -#\n",
    "    #---------------------------------------------------------#\n",
    "   \n",
    "    triad_census = nx.triadic_census(G.to_directed())\n",
    "    P[0,0] = triad_census['300']\n",
    "    P[1,0] = (1/3)*triad_census['201']\n",
    "          \n",
    "    # Normalize subgraph counts by (N choose 3)\n",
    "    P = P/((N*(N-1)*(N-2))//6)\n",
    " \n",
    "    #---------------------------------------------------------#\n",
    "    #- Calculate the terms needed to compute the variance    -#\n",
    "    #---------------------------------------------------------#\n",
    "    \n",
    "    D = D.reshape(-1)               # Reshape adjacency matrix into a 1-d \n",
    "\n",
    "    if B:\n",
    "        # Take random sample (without replacement) of B pentads to use for variance computation\n",
    "        pentads = np.asarray(random_combination(it.combinations(range(0,N), 5), B), dtype='int')\n",
    "    else:\n",
    "        # Use all pentads in variance computation\n",
    "        B = sp.special.binom(N, 5)\n",
    "        pentads = np.asarray(list(it.combinations(range(0,N), 5)), dtype='int')\n",
    "    \n",
    "    # Construct multi-indices for each of 3 dyads in the 10 triads in each pentad\n",
    "    # This shows where to find these dyads in a vectorized version of an N x N matrix\n",
    "    ijk = [np.ravel_multi_index([pentads[:,0], pentads[:,1]], (N,N)), \\\n",
    "           np.ravel_multi_index([pentads[:,0], pentads[:,2]], (N,N)), \\\n",
    "           np.ravel_multi_index([pentads[:,1], pentads[:,2]], (N,N))]\n",
    "    ijl = [np.ravel_multi_index([pentads[:,0], pentads[:,1]], (N,N)), \\\n",
    "           np.ravel_multi_index([pentads[:,0], pentads[:,3]], (N,N)), \\\n",
    "           np.ravel_multi_index([pentads[:,1], pentads[:,3]], (N,N))]\n",
    "    ijm = [np.ravel_multi_index([pentads[:,0], pentads[:,1]], (N,N)), \\\n",
    "           np.ravel_multi_index([pentads[:,0], pentads[:,4]], (N,N)), \\\n",
    "           np.ravel_multi_index([pentads[:,1], pentads[:,4]], (N,N))]\n",
    "    ikl = [np.ravel_multi_index([pentads[:,0], pentads[:,2]], (N,N)), \\\n",
    "           np.ravel_multi_index([pentads[:,0], pentads[:,3]], (N,N)), \\\n",
    "           np.ravel_multi_index([pentads[:,2], pentads[:,3]], (N,N))]\n",
    "    ikm = [np.ravel_multi_index([pentads[:,0], pentads[:,2]], (N,N)), \\\n",
    "           np.ravel_multi_index([pentads[:,0], pentads[:,4]], (N,N)), \\\n",
    "           np.ravel_multi_index([pentads[:,2], pentads[:,4]], (N,N))]\n",
    "    ilm = [np.ravel_multi_index([pentads[:,0], pentads[:,3]], (N,N)), \\\n",
    "           np.ravel_multi_index([pentads[:,0], pentads[:,4]], (N,N)), \\\n",
    "           np.ravel_multi_index([pentads[:,3], pentads[:,4]], (N,N))]\n",
    "    jkl = [np.ravel_multi_index([pentads[:,1], pentads[:,2]], (N,N)), \\\n",
    "           np.ravel_multi_index([pentads[:,1], pentads[:,3]], (N,N)), \\\n",
    "           np.ravel_multi_index([pentads[:,2], pentads[:,3]], (N,N))]\n",
    "    jkm = [np.ravel_multi_index([pentads[:,1], pentads[:,2]], (N,N)), \\\n",
    "           np.ravel_multi_index([pentads[:,1], pentads[:,4]], (N,N)), \\\n",
    "           np.ravel_multi_index([pentads[:,2], pentads[:,4]], (N,N))]\n",
    "    jlm = [np.ravel_multi_index([pentads[:,1], pentads[:,3]], (N,N)), \\\n",
    "           np.ravel_multi_index([pentads[:,1], pentads[:,4]], (N,N)), \\\n",
    "           np.ravel_multi_index([pentads[:,3], pentads[:,4]], (N,N))]\n",
    "    klm = [np.ravel_multi_index([pentads[:,2], pentads[:,3]], (N,N)), \\\n",
    "           np.ravel_multi_index([pentads[:,2], pentads[:,4]], (N,N)), \\\n",
    "           np.ravel_multi_index([pentads[:,3], pentads[:,4]], (N,N))]\n",
    "       \n",
    "    # All 30 pairs of the 10 triads sharing exactly one agent in common\n",
    "    triad_pairs = [(ijk, ilm), (ijk, jlm), (ijk, klm), \\\n",
    "                   (ijl, ikm), (ijl, jkm), (ijl, klm), \\\n",
    "                   (ijm, ikl), (ijm, jkl), (ijm, klm), \\\n",
    "                   (ikl, ijm), (ikl, jkm), (ikl, jlm), \\\n",
    "                   (ikm, ijl), (ikm, jkl), (ikm, jlm), \\\n",
    "                   (ilm, ijk), (ilm, jkl), (ilm, jkm), \\\n",
    "                   (jkl, ijm), (jkl, ikm), (jkl, ilm), \\\n",
    "                   (jkm, ijl), (jkm, ikl), (jkm, ilm), \\\n",
    "                   (jlm, ijk), (jlm, ikl), (jlm, ikm), \\\n",
    "                   (klm, ijk), (klm, ijl), (klm, ijm)]\n",
    "    \n",
    "    # loop over all 30 pairs of triads in a pentad and compute elements\n",
    "    # of XIq1 matrix using the fast numexpr functions defined above\n",
    "    for pair in triad_pairs:\n",
    "        \n",
    "        ij, ik, jk = pair[0]\n",
    "        il, im, lm = pair[1]\n",
    "        \n",
    "        \n",
    "        XIq1[0,0] +=       np.sum(XIq1_00(D[ij],D[ik],D[jk],D[il],D[im],D[lm]))\n",
    "        XIq1[0,1] += (1/3)*np.sum(XIq1_01(D[ij],D[ik],D[jk],D[il],D[im],D[lm]))\n",
    "        XIq1[1,1] += (1/9)*np.sum(XIq1_11(D[ij],D[ik],D[jk],D[il],D[im],D[lm]))\n",
    "    \n",
    "    # Divide by the number of pairs of triads considered to get estimated expectations\n",
    "    XIq1 = XIq1/(B*30)\n",
    "        \n",
    "    # Fill in other covariance term symmetrically\n",
    "    XIq1[1,0] = XIq1[0,1]\n",
    "    \n",
    "    # Define kappa constant\n",
    "    kappa_3_N = ((N-3)*(N-4)*(N-5))/(N*(N-1)*(N-2))\n",
    "    \n",
    "    # Construct variance-covariance matrix\n",
    "    OMEGA = 9*(kappa_3_N/(N-5))* (XIq1 - P @ P.T) + \\\n",
    "            6*(kappa_3_N/((N-3)*(N-4)*(N-5)))*(np.diag(np.ravel(P)) - P @ P.T)\n",
    "    \n",
    "    # Estimate transitivity index    \n",
    "    TI = P[0,0]/(P[1,0] + P[0,0])    \n",
    "    \n",
    "    # Estimate variance using the delta method\n",
    "    C = (TI/P[0,0])*np.array([[1-TI, -TI]])\n",
    "    VAR_TI = np.asscalar(C @ OMEGA @ C.T)\n",
    "    \n",
    "    if display:\n",
    "        print(\"%s %s %s\" % ('Triad'.ljust(20), 'Frequency'.rjust(15), '(Std. Err)'.rjust(10)))\n",
    "        print(\"--------------------------------------------------\")\n",
    "        print(\"%s %s %s\" % ('Triangle'.ljust(20), '{0:.6f}'.format(P[0,0]).rjust(15), '(' + '{0:.8f}'.format(OMEGA[0,0]**(1/2)).rjust(10) + ')') )\n",
    "        print(\"%s %s %s\" % ('Two-Star'.ljust(20), '{0:.6f}'.format(P[1,0]).rjust(15), '(' + '{0:.8f}'.format(OMEGA[1,1]**(1/2)).rjust(10) + ')') )\n",
    "        print(\"--------------------------------------------------\")\n",
    "        print(\"%s %s %s\" % ('Transitivity Index'.ljust(20), '{0:.6f}'.format(TI).rjust(15), '(' + '{0:.8f}'.format(VAR_TI**(1/2)).rjust(10) + ')') )\n",
    "    \n",
    "    return [P, OMEGA, TI, VAR_TI]"
   ]
  },
  {
   "cell_type": "markdown",
   "metadata": {},
   "source": [
    "Next read in the Nyakatoke adjacency matrix and use the function above to compute an estimate of the Transitivity index and an accompanying standard error."
   ]
  },
  {
   "cell_type": "code",
   "execution_count": 10,
   "metadata": {},
   "outputs": [],
   "source": [
    "# Read in Nyakatoke adjacency matrix\n",
    "from scipy import io\n",
    "D = io.mmread(data+\"Created/Nyakatoke_Adjacency.mtx\")\n",
    "G = nx.Graph(D)"
   ]
  },
  {
   "cell_type": "code",
   "execution_count": 11,
   "metadata": {},
   "outputs": [
    {
     "name": "stdout",
     "output_type": "stream",
     "text": [
      "Triad                      Frequency (Std. Err)\n",
      "--------------------------------------------------\n",
      "Triangle                    0.001150 (0.00029897)\n",
      "Two-Star                    0.004955 (0.00100173)\n",
      "--------------------------------------------------\n",
      "Transitivity Index          0.188435 (0.01102529)\n"
     ]
    }
   ],
   "source": [
    "[P, OMEGA, TI, VAR_TI] = transitivity(G)"
   ]
  },
  {
   "cell_type": "markdown",
   "metadata": {},
   "source": [
    "It is natural to compare our transitivity estimate with the network's density."
   ]
  },
  {
   "cell_type": "code",
   "execution_count": 12,
   "metadata": {},
   "outputs": [
    {
     "data": {
      "text/plain": [
       "0.06979062811565304"
      ]
     },
     "execution_count": 12,
     "metadata": {},
     "output_type": "execute_result"
    }
   ],
   "source": [
    "nx.density(G)"
   ]
  },
  {
   "cell_type": "code",
   "execution_count": 13,
   "metadata": {},
   "outputs": [
    {
     "data": {
      "text/html": [
       "<style>\n",
       "\n",
       "html {\n",
       "  font-size: 62.5% !important; }\n",
       "body {\n",
       "  font-size: 1.5em !important; /* currently ems cause chrome bug misinterpreting rems on body element */\n",
       "  line-height: 1.6 !important;\n",
       "  font-weight: 400 !important;\n",
       "  font-family: \"Raleway\", \"HelveticaNeue\", \"Helvetica Neue\", Helvetica, Arial, sans-serif !important;\n",
       "  color: #222 !important; }\n",
       "\n",
       "div{ border-radius: 0px !important;  }\n",
       "div.CodeMirror-sizer{ background: rgb(244, 244, 248) !important; }\n",
       "div.input_area{ background: rgb(244, 244, 248) !important; }\n",
       "\n",
       "div.out_prompt_overlay:hover{ background: rgb(244, 244, 248) !important; }\n",
       "div.input_prompt:hover{ background: rgb(244, 244, 248) !important; }\n",
       "\n",
       "h1, h2, h3, h4, h5, h6 {\n",
       "  color: #333 !important;\n",
       "  margin-top: 0 !important;\n",
       "  margin-bottom: 2rem !important;\n",
       "  font-weight: 300 !important; }\n",
       "h1 { font-size: 4.0rem !important; line-height: 1.2 !important;  letter-spacing: -.1rem !important;}\n",
       "h2 { font-size: 3.6rem !important; line-height: 1.25 !important; letter-spacing: -.1rem !important; }\n",
       "h3 { font-size: 3.0rem !important; line-height: 1.3 !important;  letter-spacing: -.1rem !important; }\n",
       "h4 { font-size: 2.4rem !important; line-height: 1.35 !important; letter-spacing: -.08rem !important; }\n",
       "h5 { font-size: 1.8rem !important; line-height: 1.5 !important;  letter-spacing: -.05rem !important; }\n",
       "h6 { font-size: 1.5rem !important; line-height: 1.6 !important;  letter-spacing: 0 !important; }\n",
       "\n",
       "@media (min-width: 550px) {\n",
       "  h1 { font-size: 5.0rem !important; }\n",
       "  h2 { font-size: 4.2rem !important; }\n",
       "  h3 { font-size: 3.6rem !important; }\n",
       "  h4 { font-size: 3.0rem !important; }\n",
       "  h5 { font-size: 2.4rem !important; }\n",
       "  h6 { font-size: 1.5rem !important; }\n",
       "}\n",
       "\n",
       "p {\n",
       "  margin-top: 0 !important; }\n",
       "  \n",
       "a {\n",
       "  color: #1EAEDB !important; }\n",
       "a:hover {\n",
       "  color: #0FA0CE !important; }\n",
       "  \n",
       "code {\n",
       "  padding: .2rem .5rem !important;\n",
       "  margin: 0 .2rem !important;\n",
       "  font-size: 90% !important;\n",
       "  white-space: nowrap !important;\n",
       "  background: #F1F1F1 !important;\n",
       "  border: 1px solid #E1E1E1 !important;\n",
       "  border-radius: 4px !important; }\n",
       "pre > code {\n",
       "  display: block !important;\n",
       "  padding: 1rem 1.5rem !important;\n",
       "  white-space: pre !important; }\n",
       "  \n",
       "button{ border-radius: 0px !important; }\n",
       ".navbar-inner{ background-image: none !important;  }\n",
       "select, textarea{ border-radius: 0px !important; }\n",
       "\n",
       "</style>"
      ],
      "text/plain": [
       "<IPython.core.display.HTML object>"
      ]
     },
     "execution_count": 13,
     "metadata": {},
     "output_type": "execute_result"
    }
   ],
   "source": [
    "# This imports an attractive notebook style from Github\n",
    "from IPython.display import HTML\n",
    "from urllib.request import urlopen\n",
    "html = urlopen('http://bit.ly/1Bf5Hft')\n",
    "HTML(html.read().decode('utf-8'))"
   ]
  }
 ],
 "metadata": {
  "anaconda-cloud": {},
  "kernelspec": {
   "display_name": "Python 3",
   "language": "python",
   "name": "python3"
  },
  "language_info": {
   "codemirror_mode": {
    "name": "ipython",
    "version": 3
   },
   "file_extension": ".py",
   "mimetype": "text/x-python",
   "name": "python",
   "nbconvert_exporter": "python",
   "pygments_lexer": "ipython3",
   "version": "3.6.8"
  }
 },
 "nbformat": 4,
 "nbformat_minor": 1
}
