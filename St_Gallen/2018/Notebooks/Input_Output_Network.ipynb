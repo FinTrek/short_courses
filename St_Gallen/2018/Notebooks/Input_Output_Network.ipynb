{
 "cells": [
  {
   "cell_type": "markdown",
   "metadata": {},
   "source": [
    "# Input-Output Networks\n",
    "_Bryan Graham - University of California - Berkeley_  \n",
    "\n",
    "September 2018\n",
    "\n",
    "#### Code citation:\n",
    "<br>\n",
    "Graham, Bryan S. (2018). \"Input-Output Networks: St. Gallen Social and Economic Networks Course Jupyter Notebook,\" (Version 1.0) [Computer program]. Available at http://bryangraham.github.io/econometrics/ (Accessed 20 September 2018)"
   ]
  },
  {
   "cell_type": "markdown",
   "metadata": {},
   "source": [
    "## Sectoral productivity shocks and aggregate fluctuations\n",
    "\n",
    "Daron Acemoglu , Vasco M. Carvalho, Asuman Ozdaglar and Alireza Tahbaz-Salehi (2012, _Econometrica_) study the relationship between intersectoral input-output linkages and the aggregate implications of sectoral level productivity shocks. Their work elegantly integates classic work on Input-Ouput (IO) models with modern network analysis. The notion of sectoral influence that emerges from their model is closely related to the PageRank centrality measure (which itself goes back to Leontief's original work). A comprehensive textbook introduction to Input-Output analysis can be found in Miller and Blair (2009).  \n",
    "\n",
    "In this notebook we will construct and analyze an industry-by-industry direct requirements matrix: the $ \\mathbf{A} $ matrix from input-output analysis. We will do this by using an industry-by-industry totals requirements matrix constructed by the Bureau of Economic Analysis (BEA) as part of their 2007 IO benchmark (the classic $ \\left(\\mathbf{I}-\\mathbf{A}\\right)^{-1} $ Leontief matrix from input-output analysis). The dataset is located in the \"data\" directory of the Github repository. You'll need to download the data and adjust the **data** directory defined below to run this notebook on your computer.    \n",
    "\n",
    "This notebook also produces several figures. These are saved in the **graphics** directory defined below. This directory should also be modified prior to executing the notebook.\n",
    "\n",
    "**References**    \n",
    "\n",
    "Acemoglu, Daron, Carvalho, Vasco M., Ozdaglar, Asuman and Tahbaz-Salehi, Alireza. (2012). \"The network origins of aggregate fluctuations\", _Econometrica_ 80 (5): 1977 - 2016.    \n",
    "\n",
    "Miller, Ronald E. and Blair, Peter D. (2009). _Input-Output Analysis: Foundations and Extensions_. Cambridge: Cambridge University Press.\n",
    "\n"
   ]
  },
  {
   "cell_type": "code",
   "execution_count": 1,
   "metadata": {},
   "outputs": [],
   "source": [
    "# Direct Python to plot all figures inline (i.e., not in a separate window)\n",
    "%matplotlib inline\n",
    "\n",
    "# Main scientific computing modules\n",
    "# Load library dependencies\n",
    "import time\n",
    "import numpy as np\n",
    "import scipy as sp\n",
    "import pandas as pd\n",
    "import itertools as it\n",
    "\n",
    "# Import matplotlib & seaborn\n",
    "import matplotlib.pyplot as plt\n",
    "import seaborn as sns\n",
    "\n",
    "# networkx module for the analysis of network data\n",
    "import networkx as nx"
   ]
  },
  {
   "cell_type": "markdown",
   "metadata": {},
   "source": [
    "Location of BEA benchmark data."
   ]
  },
  {
   "cell_type": "code",
   "execution_count": 2,
   "metadata": {},
   "outputs": [],
   "source": [
    "# Directory where graphics files will be saved (and where example data are stored)\n",
    "data     = '/Users/bgraham/Dropbox/Teaching/Short_Courses/St_Gallen/2018/Data/'\n",
    "graphics = '/Users/bgraham/Dropbox/Teaching/Short_Courses/St_Gallen/2018/Graphics/'"
   ]
  },
  {
   "cell_type": "markdown",
   "metadata": {},
   "source": [
    "This is a short piece of utility code for kernel density estimation."
   ]
  },
  {
   "cell_type": "code",
   "execution_count": 3,
   "metadata": {},
   "outputs": [],
   "source": [
    "def kde(Y, y_grid, h = None, smooth_factor = 1, s_wgt=None):\n",
    "    \n",
    "    N      = len(Y)                     # Number of observations\n",
    "    N_grid = len(y_grid)                # Number of evaluation points\n",
    "    Y      = Y.reshape((N,1))           # Reshape Y into N x 1 numpy array\n",
    "    y_grid = y_grid.reshape((1,N_grid)) # Reshape y_grid into 1 x N_grid numpy array\n",
    "    \n",
    "    # Set bandwidth value if needed\n",
    "    if h is None:\n",
    "        iqr   = np.subtract.reduce(np.percentile(Y, [75,25]))  # inter-quartile range, returned as scalar\n",
    "        sigma = np.std(Y, ddof=1)                              # standard deviation\n",
    "        A     = min(sigma, iqr/1.349)                          # pick smallest of two dispersion measures\n",
    "        h     = smooth_factor * 0.9 * A * N ** (-1/5.)         # Silverman's rule-of-thumb times additional\n",
    "                                                               # user-supplied under/over smoothing factor\n",
    "    # Form N x N_grid matrix with elements K((Y-y)/h)/h\n",
    "    k = sp.stats.norm.pdf((Y - y_grid)/h)/h\n",
    "    \n",
    "    # Take column sums of k to get kernel density estimate at each of the N_grid points\n",
    "    # Put results in N_grid x 2 array with y_grid in column 1 and f_hat in column 2\n",
    "    f_hat = np.vstack((np.ravel(y_grid), np.average(k, axis=0, weights=s_wgt))).T\n",
    "    \n",
    "    # Sort results by y_grid values, smallest to largest (facilitates plotting)\n",
    "    f_hat = f_hat[f_hat[:, 0].argsort()]\n",
    "    \n",
    "    return [f_hat, h]"
   ]
  },
  {
   "cell_type": "markdown",
   "metadata": {},
   "source": [
    "We begin by loading the 2007 Industry-by-Industry _Total_ Requirements Table constructed by the Bureau of Economic Analysis (BEA). This is made available as a Microsoft Excel workbook by the BEA. The _openpyxl_ module is good for working with MS Excel files. The source data is available online [here](https://www.bea.gov/industry/input-output-accounts-data)."
   ]
  },
  {
   "cell_type": "code",
   "execution_count": 4,
   "metadata": {},
   "outputs": [],
   "source": [
    "# Use openpyxl module to work with MS Excel workbook data\n",
    "# NOTE: This makes it easy to move across different sheets and cells\n",
    "\n",
    "import openpyxl\n",
    "wb        = openpyxl.load_workbook(data+'IxI_TR_2007_Detail.xlsx')  # Industry-by-Industry Total Requirements Table\n",
    "io_matrix = wb['2007']                                              # Actual N x N table in '2007' sheet"
   ]
  },
  {
   "cell_type": "markdown",
   "metadata": {},
   "source": [
    "This next block of code extracts data from the BEA MS Excel workbook. It constructs three objects.    \n",
    "\n",
    "First it constructs a dictionary with spreadsheet row numbers as _keys_ and a second dictionary as _items_. The second dictionary contains the NAICS code for the sector, a descriptive sector name, and a place-holder for the centrality measure defined by Acemoglu et al. (2012). This measure is called _influence_ and defined in Equation (4) of their paper.    \n",
    "\n",
    "Second it extracts the $\\mathbf{L} = \\left(\\mathbf{I}-\\mathbf{A}\\right)^{-1} $ total requirements matrix from the workbook. It then recovers the direct requirements matrix by calculating $\\mathbf{A} = \\left(\\mathbf{I}-\\mathbf{L}\\right)\\mathbf{L}^{-1} $.    \n",
    "\n",
    "Third it constructs an edge dictionary. This is later used to construct a weighted digraph object in _networkx_."
   ]
  },
  {
   "cell_type": "code",
   "execution_count": 5,
   "metadata": {},
   "outputs": [],
   "source": [
    "# Create empty dictionaries to store input-output network in\n",
    "N = 389                  # Number of industries in 2007 benchmark files \n",
    "T = np.zeros((N,N))      # Initialize industry-by-industry total requirements matrix\n",
    "io_edges = []            # Tuples of form (i, j, {a_ij, w_ij})\n",
    "io_industries = {}       # Dictionary of sector names\n",
    "\n",
    "#-----------------------------------------------------------------#\n",
    "#- CONSTRUCT INPUT-OUTPUT DIRECT REQUIREMENTS DICTIONARY         -#\n",
    "#-----------------------------------------------------------------#\n",
    "\n",
    "# Extract total requirements matrix from excel worksheet\n",
    "# NOTE: first element is in row 6, column 3\n",
    "for i in range(0, N):\n",
    "    \n",
    "    # Get NAICS code and name of industry i\n",
    "    code_i = str(io_matrix.cell(row = i + 6, column = 1).value)\n",
    "    name_i = str(io_matrix.cell(row = i + 6, column = 2).value)\n",
    "    io_industries[i] = {'code' : code_i, 'name' : name_i, 'influence' : 0}\n",
    "    \n",
    "    for j in range(0, N):\n",
    "        \n",
    "        # Build up total requirements matrix (i.e., Leontief inverse)\n",
    "        T[i,j] = io_matrix.cell(row = i + 6, column = j + 3).value\n",
    "        \n",
    "# Use matrix inversion to recover underlying direct requirements matrix\n",
    "# cf., Acemoglu et al. (2012, Econometrica)\n",
    "A = (T - np.identity(N)) @ np.linalg.inv(T)\n",
    "\n",
    "# The A matrix gives the amount of input from the row industry (supplier)\n",
    "# needs to produce one dollar of output by the column industry (buyer)\n",
    "\n",
    "# Next construct a dictionary of edges with direct requirements coefficients\n",
    "for i in range(0, N):\n",
    "    for j in range(0, N):\n",
    "        supplier = str(io_matrix.cell(row = i + 6, column = 1).value)\n",
    "        buyer    = str(io_matrix.cell(row = 5, column = j + 3).value)\n",
    "        io_edges.append((supplier, buyer, {'a_ij' : A[i,j], \\\n",
    "                                           'w_ij' : A[i,j]/np.sum(A[:,i]) if np.sum(A[:,i]) > 0 else 0}))"
   ]
  },
  {
   "cell_type": "markdown",
   "metadata": {},
   "source": [
    "The next block of code removes the \"private households\" sector for the analysis (it is akin to a dangling node). Specifically it does not draw inputs from, or source inputs to, any other sector."
   ]
  },
  {
   "cell_type": "code",
   "execution_count": 6,
   "metadata": {},
   "outputs": [],
   "source": [
    "# Remove private household ('814000') sector from items constructed above\n",
    "# Find row/column index for private households\n",
    "i_pv = [i for i, item in io_industries.items() if item['code'] == '814000'][0]\n",
    "\n",
    "# Remove ith row and column from A matrix\n",
    "A = np.delete(A, (i_pv), axis=0)\n",
    "A = np.delete(A, (i_pv), axis=1)\n",
    "\n",
    "# Remove private households from industries dictionary\n",
    "io_industries.pop(i_pv, None)\n",
    "\n",
    "# Remove any edges in io_edge involving private household sector\n",
    "io_edges = [(i, j, attr) for (i, j, attr) in io_edges if (i != '814000') & (j != '814000')]\n",
    "\n",
    "# Decrement number of industries by 1\n",
    "N -= 1  "
   ]
  },
  {
   "cell_type": "markdown",
   "metadata": {},
   "source": [
    "The next snippet of code calculates the _influence_ vector defined in Equation (4) of the Acemoglu et al. (2012) paper. Their model assumes that all industries have the identical intermediate input shares (which is not true in practice). For the purposes of calculation I set $ \\alpha=0.55 $, which is close to the average intermediate input shares across all industries."
   ]
  },
  {
   "cell_type": "code",
   "execution_count": 7,
   "metadata": {},
   "outputs": [],
   "source": [
    "# Calculate influence vector, v (Equation (4) of Acemoglu et al (2012, Econometrica))\n",
    "alpha = 0.55                          # Approximate mean intermediate input share (see below)\n",
    "W     = A / np.sum(A, axis = 0)       # This is W.T in Acemoglu et al (2012, Econometrica)\n",
    "v     = (alpha/N) * np.linalg.inv(np.identity(N) - (1-alpha)*W) @ np.ones((N,1))"
   ]
  },
  {
   "cell_type": "markdown",
   "metadata": {},
   "source": [
    "Next I put the calculated influence values into the _io_industries_ dictionary."
   ]
  },
  {
   "cell_type": "code",
   "execution_count": 8,
   "metadata": {},
   "outputs": [],
   "source": [
    "i = 0\n",
    "for industry in io_industries:\n",
    "    io_industries[industry]['influence'] = v[i,0]\n",
    "    i += 1"
   ]
  },
  {
   "cell_type": "markdown",
   "metadata": {},
   "source": [
    "This block of code lists the most influential sectors according the Acemoglu et al. (2012) measure. Loosely speaking these sectors are key input suppliers (or suppliers of such suppliers). The paper shows how sector-specific TFP shocks may have macro effects. This makes sense. It is sensible, for example, that if electrical production became more efficient, that many other sectors would benefit."
   ]
  },
  {
   "cell_type": "code",
   "execution_count": 9,
   "metadata": {},
   "outputs": [
    {
     "name": "stdout",
     "output_type": "stream",
     "text": [
      "NAICS      SECTOR NAME                                                                 INFLUENCE\n",
      "--------------------------------------------------\n",
      "420000     Wholesale trade                                                             0.0289855318888\n",
      "550000     Management of companies and enterprises                                     0.0206704786693\n",
      "531ORE     Other real estate                                                           0.0196407841551\n",
      "324110     Petroleum refineries                                                        0.0152910761829\n",
      "211000     Oil and gas extraction                                                      0.0145985143544\n",
      "331110     Iron and steel mills and ferroalloy manufacturing                           0.0125692109473\n",
      "52A000     Monetary authorities and depository credit intermediation                   0.0103646804571\n",
      "524100     Insurance carriers                                                          0.0082450688903\n",
      "484000     Truck transportation                                                        0.00803935805813\n",
      "221100     Electric power generation, transmission, and distribution                   0.00765192509965\n"
     ]
    }
   ],
   "source": [
    "import operator\n",
    "\n",
    "RankedIndustries = [[item['code'], item['name'], item['influence']] for i, item in io_industries.items()]\n",
    "RankedIndustries = sorted(RankedIndustries, key=operator.itemgetter(2), reverse=True)[:10]\n",
    "\n",
    "print(\"%s %s %s\" % ('NAICS'.ljust(10), 'SECTOR NAME'.ljust(75), 'INFLUENCE'.rjust(8)))\n",
    "print(\"--------------------------------------------------\")\n",
    "for industry in RankedIndustries:\n",
    "    print(\"%s %s %s\" % (industry[0].ljust(10), industry[1].ljust(75), str(industry[2]).rjust(8)))"
   ]
  },
  {
   "cell_type": "markdown",
   "metadata": {},
   "source": [
    "## Visualization of the Input-Output Production Network\n",
    "\n",
    "These next few blocks of code create and plot a _networkx_ digraph object. For the purposes of visualization I only include edges between sectors where the supplying sector accounts for least 5 percent of all intermediate input purchases by the buying sector. This, of course, makes the resulting network sparser and focuses our attention on more consequential \"supply\" relationships."
   ]
  },
  {
   "cell_type": "code",
   "execution_count": 10,
   "metadata": {},
   "outputs": [],
   "source": [
    "G = nx.DiGraph(year='2007')\n",
    "for (i, j, attr) in io_edges:\n",
    "    if attr['w_ij'] >=0.05:\n",
    "        G.add_edge(i, j)"
   ]
  },
  {
   "cell_type": "code",
   "execution_count": null,
   "metadata": {},
   "outputs": [
    {
     "name": "stderr",
     "output_type": "stream",
     "text": [
      "/Users/bgraham/anaconda/lib/python3.6/site-packages/pygraphviz/agraph.py:1334: RuntimeWarning: Error: remove_overlap: Graphviz not built with triangulation library\n",
      "\n",
      "  warnings.warn(b\"\".join(errors).decode(self.encoding), RuntimeWarning)\n"
     ]
    }
   ],
   "source": [
    "# Plot input-ouyput network\n",
    "fig_IO_network, ax = plt.subplots(ncols=1, figsize=(10, 7.5))\n",
    "\n",
    "# Use Graphviz to position nodes\n",
    "node_pos = nx.nx_agraph.pygraphviz_layout(G,prog='sfdp')\n",
    "\n",
    "\n",
    "# Adjust positions of nodes labels\n",
    "offset = 1.5\n",
    "pos_labels = {}\n",
    "nodes = node_pos.keys()\n",
    "for node in nodes:\n",
    "    x, y = node_pos[node]\n",
    "    pos_labels[node] = (x - offset, y - offset)\n",
    "\n",
    "# Plot network\n",
    "from matplotlib import rc\n",
    "rc('text', usetex=True)\n",
    "plt.text(30, 7.5, r'\\underline{Source}: Bureau of Economic Analysis (BEA) and author`s calculations.', fontsize=10)\n",
    "plt.text(30, 5.0, r'Raw data available at https://www.bea.gov/industry/input-output-accounts-data (Accessed September 2018)', fontsize=10)\n",
    "\n",
    "nx.draw_networkx(G, pos=node_pos, with_labels=False, \\\n",
    "                 edge_color='lightgrey', width=0.5, node_size=2, node_color='#00B0DA')\n",
    "\n",
    "# Top 10 Sectors\n",
    "TopTen2007 = {'420000' : r'Wholesale', '550000' : r'Management', '531ORE' : r'Real Estate', \\\n",
    "              '324110' : r'Petroleum Refineries', '211000' : r'Oil and Gas Extraction', \\\n",
    "              '331110' : r'Iron and Steel', '52A000' : r'Credit Intermediation', \\\n",
    "              '524100' : r'Insurance', '484000' : r'Truck Transportation', '221100' : r'Electricity'}\n",
    "\n",
    "nx.draw_networkx_nodes(G, pos=node_pos, with_labels=False, \\\n",
    "                       nodelist=['420000','550000','531ORE','324110','211000','331110','52A000',\\\n",
    "                                 '524100','484000','221100'], \\\n",
    "                       edge_color='lightgrey', width=1, node_size=64, node_color='#EE1F60')\n",
    "\n",
    "nx.draw_networkx_labels(G, pos=pos_labels, labels=TopTen2007, font_size=12, font_weight='black')\n",
    "\n",
    "# Set axis limits and suppress tick marks\n",
    "plt.ylim([10,100])\n",
    "plt.xlim([30,165])\n",
    "\n",
    "plt.title('United States Input-Output Network, 2007', fontsize=16)\n",
    "\n",
    "# Add frame around plot\n",
    "for spine in ['left','right','top','bottom']:\n",
    "    ax.spines[spine].set_visible(True)\n",
    "    ax.spines[spine].set_color('k')\n",
    "    ax.spines[spine].set_linewidth(2)\n",
    "\n",
    "# Remove tick marks and labels\n",
    "ax.tick_params(axis='x', which='both', bottom=False, top=False, labelbottom=False) \n",
    "ax.tick_params(axis='y', which='both', left=False, right=False, labelleft=False) \n",
    "    \n",
    "# Save figure\n",
    "plt.tight_layout()\n",
    "plt.savefig(graphics + 'USInputOutput2007', bbox_inches='tight', dpi=500) "
   ]
  },
  {
   "cell_type": "markdown",
   "metadata": {},
   "source": [
    "We end our analysis by plotting the in degree distribution (based upon the $ \\mathbf{A} $ matrix). Contrary to the model this shows a fare amount of variation in the role played by intermediate inputs across sectors.   \n",
    "\n",
    "We also plot the outdegree distribution (based on the column sum normalized $ \\mathbf{A} $ matrix). The distribution of out degree is right-skewed, with a thick tail of high out degree sectors (i.e., important input supplying sectors). This is consistent with the main empirical point of the Acemoglu et al. (2012) paper."
   ]
  },
  {
   "cell_type": "code",
   "execution_count": null,
   "metadata": {},
   "outputs": [],
   "source": [
    "G = nx.DiGraph(year='2007')\n",
    "G.add_edges_from(io_edges)\n",
    "\n",
    "# Weighted in degree sequence of input-ouput network as Pandas series\n",
    "in_degree_sequence = pd.Series(sorted(list(dict(G.in_degree(weight='a_ij')).values()),reverse=True))   # In degree\n",
    "out_degree_sequence = pd.Series(sorted(list(dict(G.out_degree(weight='w_ij')).values()),reverse=True)) # Out degree\n",
    "\n",
    "N = len(in_degree_sequence) # Number of industries\n",
    "\n",
    "print(\"Input-Output Network Weighted In Degree Distribution\")\n",
    "print(\"NOTE: In degree coincides with the intermediate input share in this context\")\n",
    "print(\"\")\n",
    "print(\"Mean In Degree      : \" + \"%3.4f\" % np.mean(in_degree_sequence))                # Mean In Degree\n",
    "print(\"Std. Dev. In Degree : \" + \"%3.4f\" % np.std(in_degree_sequence))                 # Std. of In Degree\n",
    "print(\"Min In Degree       : \" + \"%3.4f\" % np.min(in_degree_sequence))                 # Min of In Degree\n",
    "print(\"Max In Degree       : \" + \"%3.4f\" % np.max(in_degree_sequence))                 # Max of In Degree\n",
    "print(\"\")\n",
    "print(\"\")\n",
    "print(\"Input-Output Network Weighted Out Degree Distribution\")\n",
    "print(\"\")\n",
    "print(\"Mean Out Degree      : \" + \"%3.4f\" % np.mean(out_degree_sequence))               # Mean Out Degree\n",
    "print(\"Std. Dev. Out Degree : \" + \"%3.4f\" % np.std(out_degree_sequence))                # Std. of Out Degree\n",
    "print(\"Min Out Degree       : \" + \"%3.4f\" % np.min(out_degree_sequence))                # Min of Out Degree\n",
    "print(\"Max Out Degree       : \" + \"%3.4f\" % np.max(out_degree_sequence))                # Max of Out Degree\n",
    "\n",
    "\n",
    "# Plot In- and Out Degree Distributions\n",
    "# Define figure object\n",
    "fig, sbp = plt.subplots(ncols=2, figsize=(9, 4))\n",
    "ax1 = sbp[0] # Handle for left subplot\n",
    "ax2 = sbp[1] # Handle for right subplot\n",
    "\n",
    "# Computer in degree kernel density estimate\n",
    "[f_id, bw] = kde(in_degree_sequence.values, np.arange(0,1,0.001), h=None, smooth_factor=3/4, s_wgt=None)  \n",
    "[f_od, bw] = kde(out_degree_sequence.values, np.arange(0,8,0.01), h=None, smooth_factor=1, s_wgt=None)  \n",
    "\n",
    "plt.sca(ax1) # Select first subplot\n",
    "plt.plot(f_id[:,0], f_id[:,1], color = '#003262', linewidth = 2, label  = 'Input Share')\n",
    "ax1.fill_between(f_id[:,0], f_id[:,1], facecolor='#003262', alpha=0.3, interpolate=True) \n",
    "\n",
    "# Set axis limits \n",
    "plt.ylim([0,2.5])\n",
    "plt.xlim([0,1])\n",
    "\n",
    "plt.title('Industry-Level Intermediate Input Shares, 2007', fontsize=12)\n",
    "plt.xlabel('Intermediate input share')\n",
    "plt.ylabel('Density')\n",
    "\n",
    "# Clean up the plot, add frames etc.\n",
    "ax1.patch.set_facecolor('gray')               # Color of background\n",
    "ax1.patch.set_alpha(0.15)                     # Translucency of background\n",
    "ax1.grid(False)                               # Remove gridlines from plot\n",
    "\n",
    "# Add frame around plot\n",
    "for spine in ['left','right','top','bottom']:\n",
    "    ax.spines[spine].set_visible(True)\n",
    "    ax.spines[spine].set_color('k')\n",
    "    ax.spines[spine].set_linewidth(2)\n",
    "\n",
    "plt.sca(ax2) # Select second subplot    \n",
    "plt.plot(f_od[:,0], f_od[:,1], color = '#FDB515', linewidth = 2, label  = 'Out Degree')\n",
    "ax2.fill_between(f_od[:,0], f_od[:,1], facecolor='#FDB515', alpha=0.3, interpolate=True)\n",
    "\n",
    "# Set axis limits \n",
    "plt.ylim([0,1.1])\n",
    "plt.xlim([0,8])\n",
    "\n",
    "plt.title('Industy Out Degree Distribution, 2007', fontsize=12)\n",
    "plt.xlabel('Weighted out degree')\n",
    "plt.ylabel('Density')\n",
    "\n",
    "# Clean up the plot, add frames etc.\n",
    "ax2.patch.set_facecolor('gray')               # Color of background\n",
    "ax2.patch.set_alpha(0.15)                     # Translucency of background\n",
    "ax2.grid(False)                               # Remove gridlines from plot\n",
    "\n",
    "# Add frame around plot\n",
    "for spine in ['left','right','top','bottom']:\n",
    "    ax2.spines[spine].set_visible(True)\n",
    "    ax2.spines[spine].set_color('k')\n",
    "    ax2.spines[spine].set_linewidth(2)\n",
    "    \n",
    "    \n",
    "# Save figure\n",
    "plt.tight_layout()\n",
    "plt.savefig(graphics + 'USInputOutput2007_DegreeDis', bbox_inches='tight', dpi=500)"
   ]
  },
  {
   "cell_type": "code",
   "execution_count": null,
   "metadata": {},
   "outputs": [],
   "source": [
    "# This imports an attractive notebook style from Github\n",
    "from IPython.display import HTML\n",
    "from urllib.request import urlopen\n",
    "html = urlopen('http://bit.ly/1Bf5Hft')\n",
    "HTML(html.read().decode('utf-8'))"
   ]
  }
 ],
 "metadata": {
  "kernelspec": {
   "display_name": "Python 3",
   "language": "python",
   "name": "python3"
  },
  "language_info": {
   "codemirror_mode": {
    "name": "ipython",
    "version": 3
   },
   "file_extension": ".py",
   "mimetype": "text/x-python",
   "name": "python",
   "nbconvert_exporter": "python",
   "pygments_lexer": "ipython3",
   "version": "3.6.6"
  }
 },
 "nbformat": 4,
 "nbformat_minor": 2
}
